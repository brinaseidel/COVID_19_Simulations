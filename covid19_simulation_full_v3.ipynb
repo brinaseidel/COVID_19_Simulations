{
 "cells": [
  {
   "cell_type": "code",
   "execution_count": 1,
   "metadata": {},
   "outputs": [],
   "source": [
    "# We create feather file format to investigate if it speeds up data loading\n",
    "import numpy as np\n",
    "import pandas as pd\n",
    "import feather\n",
    "path = 'data/nyc_od.csv'\n",
    "OD = pd.read_csv(path, header=None, dtype=np.float64)\n",
    "path = 'data/nyc_od.feather'\n",
    "feather.write_dataframe(OD, path)"
   ]
  },
  {
   "cell_type": "markdown",
   "metadata": {},
   "source": [
    "## Baseline Code"
   ]
  },
  {
   "cell_type": "code",
   "execution_count": 2,
   "metadata": {},
   "outputs": [],
   "source": [
    "%load_ext line_profiler"
   ]
  },
  {
   "cell_type": "code",
   "execution_count": 105,
   "metadata": {},
   "outputs": [],
   "source": [
    "import numpy as np\n",
    "from tqdm import tqdm\n",
    "import argparse\n",
    "from multiprocessing import cpu_count\n",
    "from functools import partial\n",
    "from multiprocessing.pool import Pool\n",
    "import pandas as pd\n",
    "\n",
    "# Matplotlib doesn't play nicely with multiprocessing, so\n",
    "# we have to create a separate graphing function & import matplotlib inside of that.\n",
    "def graphing_function(args, days, norms):\n",
    "    import matplotlib.pyplot as plt\n",
    "    susceptible_pop_norm, infected_pop_norm, recovered_pop_norm = norms\n",
    "    public_trans_vec = np.asarray([float(i.replace('[', '').replace(',','').replace(']','')) for i in args.public_trans_vec if i!=']'])\n",
    "    # plot results and save the plot\n",
    "    fig = plt.figure()\n",
    "    ax = plt.axes()\n",
    "    ax.spines['right'].set_visible(False)\n",
    "    ax.spines['top'].set_visible(False)\n",
    "    ax.spines['left'].set_visible(False)\n",
    "    ax.plot(np.arange(days), susceptible_pop_norm, label='Susceptible', color='#4aa5f0', linewidth=2)\n",
    "    ax.plot(np.arange(days), infected_pop_norm, label='Infected', color='#f03737', linewidth=2)\n",
    "    ax.plot(np.arange(days), recovered_pop_norm, label='Recovered', color='#82e88a', linewidth=2)\n",
    "    ax.plot(np.arange(days), public_trans_vec, '--', label='Transit', color='k', linewidth=2)\n",
    "    ax.legend(frameon=False)\n",
    "    ax.set_xlabel(\"Days\")\n",
    "    ax.set_ylabel(\"Share of Population\")\n",
    "    if 'fig_name' in args:\n",
    "        ax.figure.savefig('figures/' + args.fig_name + '.png')\n",
    "    else:\n",
    "        ax.figure.savefig('figures/sir_plot.png')\n",
    "    plt.close()\n",
    "    \n",
    "# Convenience function: access Python dict keys as dict.key instead of dict['key']\n",
    "class objdict(dict):\n",
    "    def __getattr__(self, name):\n",
    "        if name in self:\n",
    "            return self[name]\n",
    "        else:\n",
    "            raise AttributeError(\"No such attribute: \" + name)\n",
    "\n",
    "    def __setattr__(self, name, value):\n",
    "        self[name] = value\n",
    "\n",
    "    def __delattr__(self, name):\n",
    "        if name in self:\n",
    "            del self[name]\n",
    "        else:\n",
    "            raise AttributeError(\"No such attribute: \" + name)\n",
    "            \n",
    "# Run n simulations in parallel: for each run, parameters are randomly sampled from an interval\n",
    "# NOTE: Are these intervals reasonable?\n",
    "def multiprocess(args):\n",
    "\n",
    "    chunks = []\n",
    "    num_procs = args.randomize\n",
    "    for _ in range(num_procs):\n",
    "        d = dict()\n",
    "        d['origin_matrix_path'] = args.origin_matrix_path\n",
    "        d['thresh1'] = np.random.randint(0, 350)\n",
    "        d['thresh2'] = np.random.randint(d['thresh1'], 700)\n",
    "        d['infection_magnitude'] = np.random.randint(5, 15)\n",
    "        d['beta'] = args.beta\n",
    "        d['gamma'] = args.gamma\n",
    "        d['public_trans'] = np.random.randint(1, 7) * 0.1\n",
    "        d['public_trans_vec'] = np.asarray([float(i.replace('[', '').replace(',','').replace(']','')) for i in args.public_trans_vec if i!=']'])\n",
    "        d['days'] = args.days\n",
    "        d['fig_name'] = 'public_trans_{:0.1f}_({}, {})_inf_{}'.format(d['public_trans'], d['thresh1'], d['thresh2'], d['infection_magnitude'])\n",
    "        d['loading'] = args.loading\n",
    "        d = objdict(d)\n",
    "        chunks.append(d)\n",
    "\n",
    "    with Pool(num_procs) as p:\n",
    "        p.map(covid_sim, chunks)\n",
    "\n",
    "    p.join()\n",
    "\n",
    "def covid_sim(args):\n",
    "    # Read in origin-destination flow matrix\n",
    "    if int(args.loading) == 0:\n",
    "        OD = np.genfromtxt(args.origin_matrix_path, delimiter=',')\n",
    "        \n",
    "    elif int(args.loading) == 1:\n",
    "        OD = pd.read_csv('data/nyc_od.csv', header=None, dtype=np.float64).to_numpy()\n",
    "        \n",
    "    elif int(args.loading) == 2:\n",
    "        OD = feather.read_dataframe('data/nyc_od.feather').to_numpy()\n",
    "    \n",
    "\n",
    "    # initialize the population vector from the origin-destination flow matrix\n",
    "    N_k = np.abs(np.diagonal(OD) + OD.sum(axis=0) - OD.sum(axis=1))\n",
    "    locs_len = len(N_k)                 # number of locations\n",
    "    SIR = np.zeros(shape=(locs_len, 3)) # make a numpy array with 3 columns for keeping track of the S, I, R groups\n",
    "    SIR[:,0] = N_k                      # initialize the S group with the respective populations\n",
    "    thresh1 = args.thresh1\n",
    "    thresh2 = args.thresh2\n",
    "\n",
    "    first_infections = np.where((thresh1 <= SIR[:, 0]) & (SIR[:, 0] <= thresh2), np.random.randint(1, args.infection_magnitude), 0)   # for demo purposes, randomly introduce infections\n",
    "    # NOTE: this is arbitrary but not actually random.... \n",
    "    SIR[:, 0] = SIR[:, 0] - first_infections\n",
    "    SIR[:, 1] = SIR[:, 1] + first_infections                           # move infections to the I group\n",
    "\n",
    "    # row normalize the SIR matrix for keeping track of group proportions\n",
    "    row_sums = SIR.sum(axis=1)\n",
    "    SIR_n = SIR / row_sums[:, np.newaxis]\n",
    "\n",
    "    # initialize parameters\n",
    "    beta = args.beta\n",
    "    gamma = args.gamma\n",
    "    public_trans = args.public_trans                                 # alpha\n",
    "    R0 = beta/gamma\n",
    "    beta_vec = np.random.gamma(beta, 2, locs_len)\n",
    "    gamma_vec = np.full(locs_len, gamma)\n",
    "    public_trans_vec = args.public_trans_vec\n",
    "    if isinstance(public_trans_vec[0], str):\n",
    "        public_trans_vec = np.asarray([float(i.replace('[', '').replace(',','').replace(']','')) for i in public_trans_vec if i!=']'])\n",
    "\n",
    "    # make copy of the SIR matrices \n",
    "    SIR_sim = SIR.copy()\n",
    "    SIR_nsim = SIR_n.copy()\n",
    "\n",
    "    # run model\n",
    "    #print(SIR_sim.sum(axis=0).sum() == N_k.sum())\n",
    "    infected_pop_norm = []\n",
    "    susceptible_pop_norm = []\n",
    "    recovered_pop_norm = []\n",
    "    days = args.days\n",
    "    for time_step in tqdm(range(days)):\n",
    "        infected_mat = np.array([SIR_nsim[:,1],]*locs_len).transpose()\n",
    "        OD_infected = np.round(OD*infected_mat)\n",
    "        inflow_infected = OD_infected.sum(axis=0)\n",
    "        inflow_infected = np.round(inflow_infected*public_trans_vec[time_step])\n",
    "        #print('total infected inflow: ', inflow_infected.sum())\n",
    "        new_infect = beta_vec*SIR_sim[:, 0]*inflow_infected/(N_k + OD.sum(axis=0))\n",
    "        new_recovered = gamma_vec*SIR_sim[:, 1]\n",
    "        new_infect = np.where(new_infect>SIR_sim[:, 0], SIR_sim[:, 0], new_infect)\n",
    "        SIR_sim[:, 0] = SIR_sim[:, 0] - new_infect\n",
    "        SIR_sim[:, 1] = SIR_sim[:, 1] + new_infect - new_recovered\n",
    "        SIR_sim[:, 2] = SIR_sim[:, 2] + new_recovered\n",
    "        SIR_sim = np.where(SIR_sim<0,0,SIR_sim)\n",
    "        # recompute the normalized SIR matrix\n",
    "        row_sums = SIR_sim.sum(axis=1)\n",
    "        SIR_nsim = SIR_sim / row_sums[:, np.newaxis]\n",
    "        S = SIR_sim[:,0].sum()/N_k.sum()\n",
    "        I = SIR_sim[:,1].sum()/N_k.sum()\n",
    "        R = SIR_sim[:,2].sum()/N_k.sum()\n",
    "        #print(S, I, R, (S+I+R)*N_k.sum(), N_k.sum())\n",
    "        #print('\\n')\n",
    "        infected_pop_norm.append(I)\n",
    "        susceptible_pop_norm.append(S)\n",
    "        recovered_pop_norm.append(R)\n",
    "\n",
    "    graphing_function(args, days, (susceptible_pop_norm, infected_pop_norm, recovered_pop_norm))\n",
    "\n",
    "def covid_sim_serial(args):\n",
    "    for i in range(args.randomize):\n",
    "        covid_sim(args)"
   ]
  },
  {
   "cell_type": "code",
   "execution_count": 12,
   "metadata": {},
   "outputs": [
    {
     "data": {
      "text/plain": [
       "_StoreAction(option_strings=['--loading'], dest='loading', nargs=None, const=None, default=0, type=None, choices=None, help=None, metavar=None)"
      ]
     },
     "execution_count": 12,
     "metadata": {},
     "output_type": "execute_result"
    }
   ],
   "source": [
    "parser = argparse.ArgumentParser(description='COVID Simulator')\n",
    "parser.add_argument('--randomize', type=int, default=0)\n",
    "parser.add_argument('--origin-matrix-path', default='data/nyc_od.csv')\n",
    "parser.add_argument('--thresh1', type=int, default=0)\n",
    "parser.add_argument('--thresh2', type=int, default=100)\n",
    "parser.add_argument('--infection-magnitude', type=int, default=10)\n",
    "parser.add_argument('--beta', type=float, default=0.75)\n",
    "parser.add_argument('--gamma', type=float, default=0.2)\n",
    "parser.add_argument('--public-trans', type=float, default=0.5)\n",
    "parser.add_argument('--public-trans-vec', nargs='+', default=[])\n",
    "parser.add_argument('--days', type=int, default=100)\n",
    "parser.add_argument('--img-folder', default='figures/')\n",
    "parser.add_argument('--loading', default = 0)"
   ]
  },
  {
   "cell_type": "code",
   "execution_count": 26,
   "metadata": {},
   "outputs": [],
   "source": [
    "# ptv = [0.56      , 0.56      , 0.56      , 0.56      , 0.56      ,\n",
    "#        0.56      , 0.56      , 0.56      , 0.56      , 0.56      ,\n",
    "#        0.56      , 0.56      , 0.56      , 0.56      , 0.56      ,\n",
    "#        0.56      , 0.56      , 0.56      , 0.56      , 0.5264    ,\n",
    "#        0.4928    , 0.4592    , 0.4256    , 0.392     , 0.3584    ,\n",
    "#        0.3248    , 0.2912    , 0.2576    , 0.224     , 0.21585455,\n",
    "#        0.20770909, 0.19956364, 0.19141818, 0.18327273, 0.17512727,\n",
    "#        0.16698182, 0.15883636, 0.15069091, 0.14254545, 0.1344    ,\n",
    "#        0.12625455, 0.11810909, 0.10996364, 0.10181818, 0.09367273,\n",
    "#        0.08552727, 0.07738182, 0.06923636, 0.06109091, 0.05294545,\n",
    "#        0.0448    , 0.04417778, 0.04355556, 0.04293333, 0.04231111,\n",
    "#        0.04168889, 0.04106667, 0.04044444, 0.03982222, 0.0392    ,\n",
    "#        0.0392    , 0.0392    , 0.0392    , 0.0392    , 0.0392    ,\n",
    "#        0.0392    , 0.0392    , 0.0392    , 0.0392    , 0.0392    ,\n",
    "#        0.0392    , 0.0392    , 0.0392    , 0.0392    , 0.0392    ,\n",
    "#        0.0392    , 0.0392    , 0.0392    , 0.0392    , 0.0392    ,\n",
    "#        0.0392    , 0.0392    , 0.0392    , 0.0392    , 0.0392    ,\n",
    "#        0.0392    , 0.0392    , 0.0392    , 0.0392    , 0.0392    ,\n",
    "#        0.0392    , 0.0392    , 0.0392    , 0.0392    , 0.0392    ,\n",
    "#        0.0392    , 0.0392    , 0.0392    , 0.0392    , 0.0392    ]\n",
    "ptv = np.full(100, 0.56)"
   ]
  },
  {
   "cell_type": "code",
   "execution_count": 6,
   "metadata": {},
   "outputs": [],
   "source": [
    "args1 = parser.parse_args(f'--randomize 4 --gamma 0.2 --days 100 --loading 0 --public-trans-vec {ptv}'.split())"
   ]
  },
  {
   "cell_type": "markdown",
   "metadata": {},
   "source": [
    "### Line Profiler Analysis\n",
    "\n",
    "Using lprun, we see that most of the time is spent loading in the Origin-Destination flow matrix (accounts for 39.2% of the time) and computing the element-wise matrix multiplication OD\\*infected_mat and rounding it (accounts for 43.8% of the time). Note that the matrix multiplication occurs in a for-loop that runs multiple times while the loading of the matrix occurs only once. The percentage of time needed to perform all of the matrix multiplications at all of the time steps is roughly the same as the time needed to load in the matrix. We will first focus on trying read the OD matrix faster."
   ]
  },
  {
   "cell_type": "code",
   "execution_count": 51,
   "metadata": {},
   "outputs": [
    {
     "name": "stderr",
     "output_type": "stream",
     "text": [
      "100%|██████████| 100/100 [00:24<00:00,  4.14it/s]\n",
      "100%|██████████| 100/100 [00:24<00:00,  4.08it/s]\n",
      "100%|██████████| 100/100 [00:24<00:00,  4.06it/s]\n",
      "100%|██████████| 100/100 [00:24<00:00,  4.05it/s]\n"
     ]
    },
    {
     "data": {
      "text/plain": [
       "Timer unit: 1e-06 s\n",
       "\n",
       "Total time: 41.6815 s\n",
       "File: <ipython-input-47-8c4548d6adc3>\n",
       "Function: multiprocess at line 53\n",
       "\n",
       "Line #      Hits         Time  Per Hit   % Time  Line Contents\n",
       "==============================================================\n",
       "    53                                           def multiprocess(args):\n",
       "    54                                           \n",
       "    55         1          3.0      3.0      0.0      chunks = []\n",
       "    56         1          3.0      3.0      0.0      num_procs = args.randomize\n",
       "    57         5          8.0      1.6      0.0      for _ in range(num_procs):\n",
       "    58         4          5.0      1.2      0.0          d = dict()\n",
       "    59         4          5.0      1.2      0.0          d['origin_matrix_path'] = args.origin_matrix_path\n",
       "    60         4        135.0     33.8      0.0          d['thresh1'] = np.random.randint(0, 350)\n",
       "    61         4         18.0      4.5      0.0          d['thresh2'] = np.random.randint(d['thresh1'], 700)\n",
       "    62         4         16.0      4.0      0.0          d['infection_magnitude'] = np.random.randint(5, 15)\n",
       "    63         4          5.0      1.2      0.0          d['beta'] = args.beta\n",
       "    64         4          5.0      1.2      0.0          d['gamma'] = args.gamma\n",
       "    65         4         18.0      4.5      0.0          d['public_trans'] = np.random.randint(1, 7) * 0.1\n",
       "    66         4        539.0    134.8      0.0          d['public_trans_vec'] = np.asarray([i.replace('[', '').replace(',','').replace(']','') for i in args.public_trans_vec])\n",
       "    67         4          9.0      2.2      0.0          d['days'] = args.days\n",
       "    68         4         24.0      6.0      0.0          d['fig_name'] = 'public_trans_{:0.1f}_({}, {})_inf_{}'.format(d['public_trans'], d['thresh1'], d['thresh2'], d['infection_magnitude'])\n",
       "    69         4         19.0      4.8      0.0          d['loading'] = args.loading\n",
       "    70                                           #         d = dict()\n",
       "    71                                           #         d['origin_matrix_path'] = args.origin_matrix_path\n",
       "    72                                           #         d['thresh1'] = np.random.randint(0, 350)\n",
       "    73                                           #         d['thresh2'] = np.random.randint(d['thresh1'], 700)\n",
       "    74                                           #         d['infection_magnitude'] = np.random.randint(5, 15)\n",
       "    75                                           #         d['beta'] = 0.75\n",
       "    76                                           #         d['gamma'] = 0.2\n",
       "    77                                           #         d['public_trans'] = np.random.randint(1, 7) * 0.1\n",
       "    78                                           #         d['public_trans_vec'] = np.asarray([i.replace('[', '').replace(',','').replace(']','') for i in args.public_trans_vec])\n",
       "    79                                           #         d['days'] = args.days\n",
       "    80                                           #         d['fig_name'] = 'public_trans_{:0.1f}_({}, {})_inf_{}'.format(d['public_trans'], d['thresh1'], d['thresh2'], d['infection_magnitude'])\n",
       "    81                                           #         d['loading'] = args.loading\n",
       "    82         4         24.0      6.0      0.0          d = objdict(d)\n",
       "    83         4          7.0      1.8      0.0          chunks.append(d)\n",
       "    84                                           \n",
       "    85         1      37523.0  37523.0      0.1      with Pool(num_procs) as p:\n",
       "    86         1   41643041.0 41643041.0     99.9          p.map(covid_sim, chunks)\n",
       "    87                                           \n",
       "    88         1         63.0     63.0      0.0      p.join()"
      ]
     },
     "metadata": {},
     "output_type": "display_data"
    }
   ],
   "source": [
    "%lprun -f multiprocess multiprocess(args1)"
   ]
  },
  {
   "cell_type": "code",
   "execution_count": 7,
   "metadata": {
    "collapsed": true,
    "jupyter": {
     "outputs_hidden": true
    }
   },
   "outputs": [
    {
     "name": "stderr",
     "output_type": "stream",
     "text": [
      "100%|████████████████████████████████████████████████████████████████████████████████| 100/100 [00:23<00:00,  4.31it/s]\n"
     ]
    },
    {
     "data": {
      "text/plain": [
       "Timer unit: 1e-07 s\n",
       "\n",
       "Total time: 29.3087 s\n",
       "File: <ipython-input-3-15fe1c642843>\n",
       "Function: covid_sim at line 78\n",
       "\n",
       "Line #      Hits         Time  Per Hit   % Time  Line Contents\n",
       "==============================================================\n",
       "    78                                           def covid_sim(args):\n",
       "    79                                               # Read in origin-destination flow matrix\n",
       "    80         1         36.0     36.0      0.0      if int(args.loading) == 0:\n",
       "    81         1   57828114.0 57828114.0     19.7          OD = np.genfromtxt(args.origin_matrix_path, delimiter=',')\n",
       "    82                                                   \n",
       "    83                                               elif int(args.loading) == 1:\n",
       "    84                                                   OD = pd.read_csv('data/nyc_od.csv', header=None, dtype=np.float64).to_numpy()\n",
       "    85                                                   \n",
       "    86                                               elif int(args.loading) == 2:\n",
       "    87                                                   OD = feather.read_dataframe('data/nyc_od.feather').to_numpy()\n",
       "    88                                               \n",
       "    89                                           \n",
       "    90                                               # initialize the population vector from the origin-destination flow matrix\n",
       "    91         1      75074.0  75074.0      0.0      N_k = np.abs(np.diagonal(OD) + OD.sum(axis=0) - OD.sum(axis=1))\n",
       "    92         1         27.0     27.0      0.0      locs_len = len(N_k)                 # number of locations\n",
       "    93         1        248.0    248.0      0.0      SIR = np.zeros(shape=(locs_len, 3)) # make a numpy array with 3 columns for keeping track of the S, I, R groups\n",
       "    94         1         78.0     78.0      0.0      SIR[:,0] = N_k                      # initialize the S group with the respective populations\n",
       "    95         1         13.0     13.0      0.0      thresh1 = args.thresh1\n",
       "    96         1          7.0      7.0      0.0      thresh2 = args.thresh2\n",
       "    97                                           \n",
       "    98         1        927.0    927.0      0.0      first_infections = np.where((thresh1 <= SIR[:, 0]) & (SIR[:, 0] <= thresh2), np.random.randint(1, args.infection_magnitude), 0)   # for demo purposes, randomly introduce infections\n",
       "    99                                               # NOTE: this is arbitrary but not actually random.... \n",
       "   100         1        111.0    111.0      0.0      SIR[:, 0] = SIR[:, 0] - first_infections\n",
       "   101         1         76.0     76.0      0.0      SIR[:, 1] = SIR[:, 1] + first_infections                           # move infections to the I group\n",
       "   102                                           \n",
       "   103                                               # row normalize the SIR matrix for keeping track of group proportions\n",
       "   104         1        433.0    433.0      0.0      row_sums = SIR.sum(axis=1)\n",
       "   105         1        640.0    640.0      0.0      SIR_n = SIR / row_sums[:, np.newaxis]\n",
       "   106                                           \n",
       "   107                                               # initialize parameters\n",
       "   108         1         18.0     18.0      0.0      beta = args.beta\n",
       "   109         1          9.0      9.0      0.0      gamma = args.gamma\n",
       "   110         1          8.0      8.0      0.0      public_trans = args.public_trans                                 # alpha\n",
       "   111         1         10.0     10.0      0.0      R0 = beta/gamma\n",
       "   112         1       1783.0   1783.0      0.0      beta_vec = np.random.gamma(beta, 2, locs_len)\n",
       "   113         1        231.0    231.0      0.0      gamma_vec = np.full(locs_len, gamma)\n",
       "   114         1         10.0     10.0      0.0      public_trans_vec = args.public_trans_vec\n",
       "   115         1         16.0     16.0      0.0      if isinstance(public_trans_vec[0], str):\n",
       "   116         1        937.0    937.0      0.0          public_trans_vec = np.asarray([float(i.replace('[', '').replace(',','').replace(']','')) for i in public_trans_vec])\n",
       "   117                                           \n",
       "   118                                               # make copy of the SIR matrices \n",
       "   119         1         67.0     67.0      0.0      SIR_sim = SIR.copy()\n",
       "   120         1        202.0    202.0      0.0      SIR_nsim = SIR_n.copy()\n",
       "   121                                           \n",
       "   122                                               # run model\n",
       "   123                                               #print(SIR_sim.sum(axis=0).sum() == N_k.sum())\n",
       "   124         1          8.0      8.0      0.0      infected_pop_norm = []\n",
       "   125         1          7.0      7.0      0.0      susceptible_pop_norm = []\n",
       "   126         1          7.0      7.0      0.0      recovered_pop_norm = []\n",
       "   127         1          8.0      8.0      0.0      days = args.days\n",
       "   128       101    1146052.0  11347.0      0.4      for time_step in tqdm(range(days)):\n",
       "   129       100   17879227.0 178792.3      6.1          infected_mat = np.array([SIR_nsim[:,1],]*locs_len).transpose()\n",
       "   130       100  205934349.0 2059343.5     70.3          OD_infected = np.round(OD*infected_mat)\n",
       "   131       100    3293726.0  32937.3      1.1          inflow_infected = OD_infected.sum(axis=0)\n",
       "   132       100     142640.0   1426.4      0.0          inflow_infected = np.round(inflow_infected*public_trans_vec[time_step])\n",
       "   133                                                   #print('total infected inflow: ', inflow_infected.sum())\n",
       "   134       100    3216208.0  32162.1      1.1          new_infect = beta_vec*SIR_sim[:, 0]*inflow_infected/(N_k + OD.sum(axis=0))\n",
       "   135       100      18270.0    182.7      0.0          new_recovered = gamma_vec*SIR_sim[:, 1]\n",
       "   136       100      25370.0    253.7      0.0          new_infect = np.where(new_infect>SIR_sim[:, 0], SIR_sim[:, 0], new_infect)\n",
       "   137       100      10868.0    108.7      0.0          SIR_sim[:, 0] = SIR_sim[:, 0] - new_infect\n",
       "   138       100      11281.0    112.8      0.0          SIR_sim[:, 1] = SIR_sim[:, 1] + new_infect - new_recovered\n",
       "   139       100       7610.0     76.1      0.0          SIR_sim[:, 2] = SIR_sim[:, 2] + new_recovered\n",
       "   140       100      26097.0    261.0      0.0          SIR_sim = np.where(SIR_sim<0,0,SIR_sim)\n",
       "   141                                                   # recompute the normalized SIR matrix\n",
       "   142       100      48343.0    483.4      0.0          row_sums = SIR_sim.sum(axis=1)\n",
       "   143       100      37197.0    372.0      0.0          SIR_nsim = SIR_sim / row_sums[:, np.newaxis]\n",
       "   144       100      18840.0    188.4      0.0          S = SIR_sim[:,0].sum()/N_k.sum()\n",
       "   145       100      11483.0    114.8      0.0          I = SIR_sim[:,1].sum()/N_k.sum()\n",
       "   146       100      11086.0    110.9      0.0          R = SIR_sim[:,2].sum()/N_k.sum()\n",
       "   147                                                   #print(S, I, R, (S+I+R)*N_k.sum(), N_k.sum())\n",
       "   148                                                   #print('\\n')\n",
       "   149       100       2424.0     24.2      0.0          infected_pop_norm.append(I)\n",
       "   150       100       1442.0     14.4      0.0          susceptible_pop_norm.append(S)\n",
       "   151       100       1343.0     13.4      0.0          recovered_pop_norm.append(R)\n",
       "   152                                           \n",
       "   153         1    3334337.0 3334337.0      1.1      graphing_function(args, days, (susceptible_pop_norm, infected_pop_norm, recovered_pop_norm))"
      ]
     },
     "metadata": {},
     "output_type": "display_data"
    }
   ],
   "source": [
    "%lprun -f covid_sim covid_sim(args1)"
   ]
  },
  {
   "cell_type": "raw",
   "metadata": {},
   "source": [
    "Timer unit: 1e-06 s\n",
    "\n",
    "Total time: 8.6986 s\n",
    "File: <ipython-input-207-f0250d20bd69>\n",
    "Function: covid_sim at line 75\n",
    "\n",
    "Line #      Hits         Time  Per Hit   % Time  Line Contents\n",
    "==============================================================\n",
    "    75                                           def covid_sim(args):\n",
    "    76                                               # Read in origin-destination flow matrix\n",
    "    77         1          5.0      5.0      0.0      if int(args.loading) == 0:\n",
    "    78         1    4130138.0 4130138.0     47.5          OD = np.genfromtxt(args.origin_matrix_path, delimiter=',')\n",
    "    79                                                   \n",
    "    80                                               elif int(args.loading) == 1:\n",
    "    81                                                   OD = pd.read_csv('data/nyc_od.csv', header=None, dtype=np.float64).to_numpy()\n",
    "    82                                                   \n",
    "    83                                               elif int(args.loading) == 2:\n",
    "    84                                                   OD = feather.read_dataframe('data/nyc_od.feather').to_numpy()\n",
    "    85                                               \n",
    "    86                                           \n",
    "    87                                               # initialize the population vector from the origin-destination flow matrix\n",
    "    88         1       6776.0   6776.0      0.1      N_k = np.abs(np.diagonal(OD) + OD.sum(axis=0) - OD.sum(axis=1))\n",
    "    89         1          3.0      3.0      0.0      locs_len = len(N_k)                 # number of locations\n",
    "    90         1         32.0     32.0      0.0      SIR = np.zeros(shape=(locs_len, 3)) # make a numpy array with 3 columns for keeping track of the S, I, R groups\n",
    "    91         1          7.0      7.0      0.0      SIR[:,0] = N_k                      # initialize the S group with the respective populations\n",
    "    92         1         14.0     14.0      0.0      thresh1 = args.thresh1\n",
    "    93         1          1.0      1.0      0.0      thresh2 = args.thresh2\n",
    "    94                                           \n",
    "    95         1         75.0     75.0      0.0      first_infections = np.where((thresh1 <= SIR[:, 0]) & (SIR[:, 0] <= thresh2), np.random.randint(1, args.infection_magnitude), 0)   # for demo purposes, randomly introduce infections\n",
    "    96                                               # NOTE: this is arbitrary but not actually random.... \n",
    "    97         1         13.0     13.0      0.0      SIR[:, 0] = SIR[:, 0] - first_infections\n",
    "    98         1          9.0      9.0      0.0      SIR[:, 1] = SIR[:, 1] + first_infections                           # move infections to the I group\n",
    "    99                                           \n",
    "   100                                               # row normalize the SIR matrix for keeping track of group proportions\n",
    "   101         1         47.0     47.0      0.0      row_sums = SIR.sum(axis=1)\n",
    "   102         1         77.0     77.0      0.0      SIR_n = SIR / row_sums[:, np.newaxis]\n",
    "   103                                           \n",
    "   104                                               # initialize parameters\n",
    "   105         1          2.0      2.0      0.0      beta = args.beta\n",
    "   106         1          1.0      1.0      0.0      gamma = args.gamma\n",
    "   107         1          1.0      1.0      0.0      public_trans = args.public_trans                                 # alpha\n",
    "   108         1          1.0      1.0      0.0      R0 = beta/gamma\n",
    "   109         1        144.0    144.0      0.0      beta_vec = np.random.gamma(1.6, 2, locs_len)\n",
    "   110         1         41.0     41.0      0.0      gamma_vec = np.full(locs_len, gamma)\n",
    "   111         1         13.0     13.0      0.0      public_trans_vec = np.full(locs_len, public_trans)\n",
    "   112                                           \n",
    "   113                                               # make copy of the SIR matrices \n",
    "   114         1          4.0      4.0      0.0      SIR_sim = SIR.copy()\n",
    "   115         1         28.0     28.0      0.0      SIR_nsim = SIR_n.copy()\n",
    "   116                                           \n",
    "   117                                               # run model\n",
    "   118                                               #print(SIR_sim.sum(axis=0).sum() == N_k.sum())\n",
    "   119         1          2.0      2.0      0.0      infected_pop_norm = []\n",
    "   120         1          1.0      1.0      0.0      susceptible_pop_norm = []\n",
    "   121         1          1.0      1.0      0.0      recovered_pop_norm = []\n",
    "   122         1          1.0      1.0      0.0      days = 100\n",
    "   123       101      27182.0    269.1      0.3      for time_step in tqdm(range(days)):\n",
    "   124       100     686178.0   6861.8      7.9          infected_mat = np.array([SIR_nsim[:,1],]*locs_len).transpose()\n",
    "   125       100    3147535.0  31475.3     36.2          OD_infected = np.round(OD*infected_mat)\n",
    "   126       100     276859.0   2768.6      3.2          inflow_infected = OD_infected.sum(axis=0)\n",
    "   127       100       3205.0     32.0      0.0          inflow_infected = np.round(inflow_infected*public_trans_vec)\n",
    "   128                                                   #print('total infected inflow: ', inflow_infected.sum())\n",
    "   129       100     296623.0   2966.2      3.4          new_infect = beta_vec*SIR_sim[:, 0]*inflow_infected/(N_k + OD.sum(axis=0))\n",
    "   130       100       1077.0     10.8      0.0          new_recovered = gamma_vec*SIR_sim[:, 1]\n",
    "   131       100       1404.0     14.0      0.0          new_infect = np.where(new_infect>SIR_sim[:, 0], SIR_sim[:, 0], new_infect)\n",
    "   132       100        947.0      9.5      0.0          SIR_sim[:, 0] = SIR_sim[:, 0] - new_infect\n",
    "   133       100        915.0      9.2      0.0          SIR_sim[:, 1] = SIR_sim[:, 1] + new_infect - new_recovered\n",
    "   134       100        603.0      6.0      0.0          SIR_sim[:, 2] = SIR_sim[:, 2] + new_recovered\n",
    "   135       100       2367.0     23.7      0.0          SIR_sim = np.where(SIR_sim<0,0,SIR_sim)\n",
    "   136                                                   # recompute the normalized SIR matrix\n",
    "   137       100       4347.0     43.5      0.0          row_sums = SIR_sim.sum(axis=1)\n",
    "   138       100       2401.0     24.0      0.0          SIR_nsim = SIR_sim / row_sums[:, np.newaxis]\n",
    "   139       100       1510.0     15.1      0.0          S = SIR_sim[:,0].sum()/N_k.sum()\n",
    "   140       100        845.0      8.4      0.0          I = SIR_sim[:,1].sum()/N_k.sum()\n",
    "   141       100        816.0      8.2      0.0          R = SIR_sim[:,2].sum()/N_k.sum()\n",
    "   142                                                   #print(S, I, R, (S+I+R)*N_k.sum(), N_k.sum())\n",
    "   143                                                   #print('\\n')\n",
    "   144       100        187.0      1.9      0.0          infected_pop_norm.append(I)\n",
    "   145       100         97.0      1.0      0.0          susceptible_pop_norm.append(S)\n",
    "   146       100        147.0      1.5      0.0          recovered_pop_norm.append(R)\n",
    "   147                                           \n",
    "   148         1     105914.0 105914.0      1.2      graphing_function(args, days, (susceptible_pop_norm, infected_pop_norm, recovered_pop_norm))"
   ]
  },
  {
   "cell_type": "markdown",
   "metadata": {},
   "source": [
    "We try data loading using pandas, given by loading argument value of 1 and feather, given by loading argument value of 2."
   ]
  },
  {
   "cell_type": "code",
   "execution_count": 15,
   "metadata": {},
   "outputs": [],
   "source": [
    "args2 = parser.parse_args(f'--randomize 4 --gamma 0.2 --days 100 --public-trans-vec {ptv} --loading 1'.split())"
   ]
  },
  {
   "cell_type": "code",
   "execution_count": 16,
   "metadata": {},
   "outputs": [],
   "source": [
    "args3 = parser.parse_args(f'--randomize 4 --gamma 0.2 --days 100 --public-trans-vec {ptv} --loading 2'.split())"
   ]
  },
  {
   "cell_type": "code",
   "execution_count": 10,
   "metadata": {
    "collapsed": true,
    "jupyter": {
     "outputs_hidden": true
    }
   },
   "outputs": [
    {
     "name": "stderr",
     "output_type": "stream",
     "text": [
      "100%|████████████████████████████████████████████████████████████████████████████████| 100/100 [00:21<00:00,  4.58it/s]\n",
      "100%|████████████████████████████████████████████████████████████████████████████████| 100/100 [00:22<00:00,  4.53it/s]\n",
      "100%|████████████████████████████████████████████████████████████████████████████████| 100/100 [00:21<00:00,  4.60it/s]\n",
      "100%|████████████████████████████████████████████████████████████████████████████████| 100/100 [00:21<00:00,  4.57it/s]\n"
     ]
    },
    {
     "data": {
      "text/plain": [
       "Timer unit: 1e-07 s\n",
       "\n",
       "Total time: 113.491 s\n",
       "File: <ipython-input-3-15fe1c642843>\n",
       "Function: covid_sim_serial at line 155\n",
       "\n",
       "Line #      Hits         Time  Per Hit   % Time  Line Contents\n",
       "==============================================================\n",
       "   155                                           def covid_sim_serial(args):\n",
       "   156         5        149.0     29.8      0.0      for i in range(args.randomize):\n",
       "   157         4 1134912578.0 283728144.5    100.0          covid_sim(args)"
      ]
     },
     "metadata": {},
     "output_type": "display_data"
    }
   ],
   "source": [
    "%lprun -f covid_sim_serial covid_sim_serial(args1)"
   ]
  },
  {
   "cell_type": "raw",
   "metadata": {},
   "source": [
    "Timer unit: 1e-06 s\n",
    "\n",
    "Total time: 21.9654 s\n",
    "File: <ipython-input-188-f0250d20bd69>\n",
    "Function: covid_sim_serial at line 150\n",
    "\n",
    "Line #      Hits         Time  Per Hit   % Time  Line Contents\n",
    "==============================================================\n",
    "   150                                           def covid_sim_serial(args):\n",
    "   151         5         19.0      3.8      0.0      for i in range(args.randomize):\n",
    "   152         4   21965370.0 5491342.5    100.0          covid_sim(args)"
   ]
  },
  {
   "cell_type": "code",
   "execution_count": 17,
   "metadata": {},
   "outputs": [
    {
     "name": "stderr",
     "output_type": "stream",
     "text": [
      "100%|████████████████████████████████████████████████████████████████████████████████| 100/100 [00:20<00:00,  4.93it/s]\n",
      "100%|████████████████████████████████████████████████████████████████████████████████| 100/100 [00:20<00:00,  4.90it/s]\n",
      "100%|████████████████████████████████████████████████████████████████████████████████| 100/100 [00:20<00:00,  4.94it/s]\n",
      "100%|████████████████████████████████████████████████████████████████████████████████| 100/100 [00:20<00:00,  4.87it/s]"
     ]
    },
    {
     "data": {
      "text/plain": [
       "Timer unit: 1e-07 s\n",
       "\n",
       "Total time: 85.3714 s\n",
       "File: <ipython-input-3-15fe1c642843>\n",
       "Function: covid_sim_serial at line 155\n",
       "\n",
       "Line #      Hits         Time  Per Hit   % Time  Line Contents\n",
       "==============================================================\n",
       "   155                                           def covid_sim_serial(args):\n",
       "   156         5        146.0     29.2      0.0      for i in range(args.randomize):\n",
       "   157         4  853714347.0 213428586.8    100.0          covid_sim(args)"
      ]
     },
     "metadata": {},
     "output_type": "display_data"
    },
    {
     "name": "stderr",
     "output_type": "stream",
     "text": [
      "\n"
     ]
    }
   ],
   "source": [
    "%lprun -f covid_sim_serial covid_sim_serial(args2)"
   ]
  },
  {
   "cell_type": "raw",
   "metadata": {},
   "source": [
    "Timer unit: 1e-06 s\n",
    "\n",
    "Total time: 18.9244 s\n",
    "File: <ipython-input-207-f0250d20bd69>\n",
    "Function: covid_sim_serial at line 150\n",
    "\n",
    "Line #      Hits         Time  Per Hit   % Time  Line Contents\n",
    "==============================================================\n",
    "   150                                           def covid_sim_serial(args):\n",
    "   151         5         16.0      3.2      0.0      for i in range(args.randomize):\n",
    "   152         4   18924377.0 4731094.2    100.0          covid_sim(args)"
   ]
  },
  {
   "cell_type": "code",
   "execution_count": 18,
   "metadata": {},
   "outputs": [
    {
     "name": "stderr",
     "output_type": "stream",
     "text": [
      "100%|████████████████████████████████████████████████████████████████████████████████| 100/100 [00:20<00:00,  4.96it/s]\n",
      "100%|████████████████████████████████████████████████████████████████████████████████| 100/100 [00:20<00:00,  4.89it/s]\n",
      "100%|████████████████████████████████████████████████████████████████████████████████| 100/100 [00:20<00:00,  4.88it/s]\n",
      "100%|████████████████████████████████████████████████████████████████████████████████| 100/100 [00:20<00:00,  4.86it/s]\n"
     ]
    },
    {
     "data": {
      "text/plain": [
       "Timer unit: 1e-07 s\n",
       "\n",
       "Total time: 82.4685 s\n",
       "File: <ipython-input-3-15fe1c642843>\n",
       "Function: covid_sim_serial at line 155\n",
       "\n",
       "Line #      Hits         Time  Per Hit   % Time  Line Contents\n",
       "==============================================================\n",
       "   155                                           def covid_sim_serial(args):\n",
       "   156         5        157.0     31.4      0.0      for i in range(args.randomize):\n",
       "   157         4  824685341.0 206171335.2    100.0          covid_sim(args)"
      ]
     },
     "metadata": {},
     "output_type": "display_data"
    }
   ],
   "source": [
    "%lprun -f covid_sim_serial covid_sim_serial(args3)"
   ]
  },
  {
   "cell_type": "raw",
   "metadata": {},
   "source": [
    "Timer unit: 1e-06 s\n",
    "\n",
    "Total time: 14.6464 s\n",
    "File: <ipython-input-207-f0250d20bd69>\n",
    "Function: covid_sim_serial at line 150\n",
    "\n",
    "Line #      Hits         Time  Per Hit   % Time  Line Contents\n",
    "==============================================================\n",
    "   150                                           def covid_sim_serial(args):\n",
    "   151         5        232.0     46.4      0.0      for i in range(args.randomize):\n",
    "   152         4   14646201.0 3661550.2    100.0          covid_sim(args)"
   ]
  },
  {
   "cell_type": "code",
   "execution_count": 37,
   "metadata": {},
   "outputs": [
    {
     "name": "stderr",
     "output_type": "stream",
     "text": [
      "100%|██████████| 100/100 [00:19<00:00,  5.09it/s]\n",
      "100%|██████████| 100/100 [00:19<00:00,  5.07it/s]\n",
      "100%|██████████| 100/100 [00:19<00:00,  5.08it/s]\n",
      "100%|██████████| 100/100 [00:20<00:00,  4.99it/s]\n"
     ]
    },
    {
     "data": {
      "text/plain": [
       "Timer unit: 1e-06 s\n",
       "\n",
       "Total time: 32.0098 s\n",
       "File: <ipython-input-33-13ea8e705494>\n",
       "Function: multiprocess at line 53\n",
       "\n",
       "Line #      Hits         Time  Per Hit   % Time  Line Contents\n",
       "==============================================================\n",
       "    53                                           def multiprocess(args):\n",
       "    54                                           \n",
       "    55         1          4.0      4.0      0.0      chunks = []\n",
       "    56         1          4.0      4.0      0.0      num_procs = args.randomize\n",
       "    57         5         21.0      4.2      0.0      for _ in range(num_procs):\n",
       "    58         4         10.0      2.5      0.0          d = dict()\n",
       "    59         4          9.0      2.2      0.0          d['origin_matrix_path'] = args.origin_matrix_path\n",
       "    60         4        133.0     33.2      0.0          d['thresh1'] = np.random.randint(0, 350)\n",
       "    61         4         55.0     13.8      0.0          d['thresh2'] = np.random.randint(d['thresh1'], 700)\n",
       "    62         4         33.0      8.2      0.0          d['infection_magnitude'] = np.random.randint(5, 15)\n",
       "    63         4          6.0      1.5      0.0          d['beta'] = 0.75\n",
       "    64         4          8.0      2.0      0.0          d['gamma'] = 0.2\n",
       "    65         4         37.0      9.2      0.0          d['public_trans'] = np.random.randint(1, 7) * 0.1\n",
       "    66         4        733.0    183.2      0.0          d['public_trans_vec'] = np.asarray([i.replace('[', '').replace(',','').replace(']','') for i in args.public_trans_vec])\n",
       "    67         4         12.0      3.0      0.0          d['days'] = args.days\n",
       "    68         4         41.0     10.2      0.0          d['fig_name'] = 'public_trans_{:0.1f}_({}, {})_inf_{}'.format(d['public_trans'], d['thresh1'], d['thresh2'], d['infection_magnitude'])\n",
       "    69         4         21.0      5.2      0.0          d['loading'] = args.loading\n",
       "    70         4         20.0      5.0      0.0          d = objdict(d)\n",
       "    71         4          9.0      2.2      0.0          chunks.append(d)\n",
       "    72                                           \n",
       "    73         1      34407.0  34407.0      0.1      with Pool(num_procs) as p:\n",
       "    74         1   31974146.0 31974146.0     99.9          p.map(covid_sim, chunks)\n",
       "    75                                           \n",
       "    76         1        124.0    124.0      0.0      p.join()"
      ]
     },
     "metadata": {},
     "output_type": "display_data"
    }
   ],
   "source": [
    "%lprun -f multiprocess multiprocess(args1)"
   ]
  },
  {
   "cell_type": "raw",
   "metadata": {},
   "source": [
    "Timer unit: 1e-06 s\n",
    "\n",
    "Total time: 21.4746 s\n",
    "File: <ipython-input-207-f0250d20bd69>\n",
    "Function: multiprocess at line 51\n",
    "\n",
    "Line #      Hits         Time  Per Hit   % Time  Line Contents\n",
    "==============================================================\n",
    "    51                                           def multiprocess(args):\n",
    "    52                                           \n",
    "    53         1          1.0      1.0      0.0      chunks = []\n",
    "    54         1         29.0     29.0      0.0      num_procs = args.randomize\n",
    "    55         5          5.0      1.0      0.0      for _ in range(num_procs):\n",
    "    56         4          4.0      1.0      0.0          d = dict()\n",
    "    57         4          7.0      1.8      0.0          d['origin_matrix_path'] = args.origin_matrix_path\n",
    "    58         4         87.0     21.8      0.0          d['thresh1'] = np.random.randint(0, 350)\n",
    "    59         4         12.0      3.0      0.0          d['thresh2'] = np.random.randint(d['thresh1'], 700)\n",
    "    60         4          8.0      2.0      0.0          d['infection_magnitude'] = np.random.randint(5, 15)\n",
    "    61         4          4.0      1.0      0.0          d['beta'] = 1.6\n",
    "    62         4          1.0      0.2      0.0          d['gamma'] = 0.04\n",
    "    63         4         10.0      2.5      0.0          d['public_trans'] = np.random.randint(1, 7) * 0.1\n",
    "    64         4          1.0      0.2      0.0          d['days'] = 200\n",
    "    65         4         12.0      3.0      0.0          d['fig_name'] = 'public_trans_{:0.1f}_({}, {})_inf_{}'.format(d['public_trans'], d['thresh1'], d['thresh2'], d['infection_magnitude'])\n",
    "    66         4          2.0      0.5      0.0          d['loading'] = args.loading\n",
    "    67         4         17.0      4.2      0.0          d = objdict(d)\n",
    "    68         4          3.0      0.8      0.0          chunks.append(d)\n",
    "    69                                           \n",
    "    70         1      35045.0  35045.0      0.2      with Pool(num_procs) as p:\n",
    "    71         1   21439360.0 21439360.0     99.8          p.map(covid_sim, chunks)\n",
    "    72                                           \n",
    "    73         1         34.0     34.0      0.0      p.join()"
   ]
  },
  {
   "cell_type": "code",
   "execution_count": 212,
   "metadata": {},
   "outputs": [
    {
     "name": "stderr",
     "output_type": "stream",
     "text": [
      "100%|██████████| 100/100 [00:09<00:00, 10.11it/s]\n",
      "100%|██████████| 100/100 [00:10<00:00,  9.89it/s]\n",
      "100%|██████████| 100/100 [00:10<00:00, 11.35it/s]\n",
      "100%|██████████| 100/100 [00:10<00:00,  9.71it/s]\n"
     ]
    }
   ],
   "source": [
    "%lprun -f multiprocess multiprocess(args2)"
   ]
  },
  {
   "cell_type": "raw",
   "metadata": {},
   "source": [
    "Timer unit: 1e-06 s\n",
    "\n",
    "Total time: 12.5935 s\n",
    "File: <ipython-input-207-f0250d20bd69>\n",
    "Function: multiprocess at line 51\n",
    "\n",
    "Line #      Hits         Time  Per Hit   % Time  Line Contents\n",
    "==============================================================\n",
    "    51                                           def multiprocess(args):\n",
    "    52                                           \n",
    "    53         1          1.0      1.0      0.0      chunks = []\n",
    "    54         1         12.0     12.0      0.0      num_procs = args.randomize\n",
    "    55         5          5.0      1.0      0.0      for _ in range(num_procs):\n",
    "    56         4          4.0      1.0      0.0          d = dict()\n",
    "    57         4          4.0      1.0      0.0          d['origin_matrix_path'] = args.origin_matrix_path\n",
    "    58         4         63.0     15.8      0.0          d['thresh1'] = np.random.randint(0, 350)\n",
    "    59         4         11.0      2.8      0.0          d['thresh2'] = np.random.randint(d['thresh1'], 700)\n",
    "    60         4          9.0      2.2      0.0          d['infection_magnitude'] = np.random.randint(5, 15)\n",
    "    61         4          2.0      0.5      0.0          d['beta'] = 1.6\n",
    "    62         4          3.0      0.8      0.0          d['gamma'] = 0.04\n",
    "    63         4          9.0      2.2      0.0          d['public_trans'] = np.random.randint(1, 7) * 0.1\n",
    "    64         4          0.0      0.0      0.0          d['days'] = 200\n",
    "    65         4         11.0      2.8      0.0          d['fig_name'] = 'public_trans_{:0.1f}_({}, {})_inf_{}'.format(d['public_trans'], d['thresh1'], d['thresh2'], d['infection_magnitude'])\n",
    "    66         4          3.0      0.8      0.0          d['loading'] = args.loading\n",
    "    67         4          5.0      1.2      0.0          d = objdict(d)\n",
    "    68         4          2.0      0.5      0.0          chunks.append(d)\n",
    "    69                                           \n",
    "    70         1      37405.0  37405.0      0.3      with Pool(num_procs) as p:\n",
    "    71         1   12555861.0 12555861.0     99.7          p.map(covid_sim, chunks)\n",
    "    72                                           \n",
    "    73         1         64.0     64.0      0.0      p.join()"
   ]
  },
  {
   "cell_type": "code",
   "execution_count": 213,
   "metadata": {},
   "outputs": [
    {
     "name": "stderr",
     "output_type": "stream",
     "text": [
      "100%|██████████| 100/100 [00:10<00:00, 10.26it/s]\n",
      "\n",
      "100%|██████████| 100/100 [00:10<00:00,  9.55it/s]\n",
      "100%|██████████| 100/100 [00:10<00:00, 10.45it/s]\n"
     ]
    }
   ],
   "source": [
    "%lprun -f multiprocess multiprocess(args3)"
   ]
  },
  {
   "cell_type": "raw",
   "metadata": {},
   "source": [
    "Timer unit: 1e-06 s\n",
    "\n",
    "Total time: 11.3945 s\n",
    "File: <ipython-input-207-f0250d20bd69>\n",
    "Function: multiprocess at line 51\n",
    "\n",
    "Line #      Hits         Time  Per Hit   % Time  Line Contents\n",
    "==============================================================\n",
    "    51                                           def multiprocess(args):\n",
    "    52                                           \n",
    "    53         1          2.0      2.0      0.0      chunks = []\n",
    "    54         1         19.0     19.0      0.0      num_procs = args.randomize\n",
    "    55         5          6.0      1.2      0.0      for _ in range(num_procs):\n",
    "    56         4          4.0      1.0      0.0          d = dict()\n",
    "    57         4          7.0      1.8      0.0          d['origin_matrix_path'] = args.origin_matrix_path\n",
    "    58         4         65.0     16.2      0.0          d['thresh1'] = np.random.randint(0, 350)\n",
    "    59         4         10.0      2.5      0.0          d['thresh2'] = np.random.randint(d['thresh1'], 700)\n",
    "    60         4         25.0      6.2      0.0          d['infection_magnitude'] = np.random.randint(5, 15)\n",
    "    61         4          3.0      0.8      0.0          d['beta'] = 1.6\n",
    "    62         4          2.0      0.5      0.0          d['gamma'] = 0.04\n",
    "    63         4         11.0      2.8      0.0          d['public_trans'] = np.random.randint(1, 7) * 0.1\n",
    "    64         4          3.0      0.8      0.0          d['days'] = 200\n",
    "    65         4         11.0      2.8      0.0          d['fig_name'] = 'public_trans_{:0.1f}_({}, {})_inf_{}'.format(d['public_trans'], d['thresh1'], d['thresh2'], d['infection_magnitude'])\n",
    "    66         4          2.0      0.5      0.0          d['loading'] = args.loading\n",
    "    67         4          5.0      1.2      0.0          d = objdict(d)\n",
    "    68         4          3.0      0.8      0.0          chunks.append(d)\n",
    "    69                                           \n",
    "    70         1      63073.0  63073.0      0.6      with Pool(num_procs) as p:\n",
    "    71         1   11331233.0 11331233.0     99.4          p.map(covid_sim, chunks)\n",
    "    72                                           \n",
    "    73         1         35.0     35.0      0.0      p.join()"
   ]
  },
  {
   "cell_type": "markdown",
   "metadata": {},
   "source": [
    "We find that loading data with feather works the fastest, so we'll be using that going forward."
   ]
  },
  {
   "cell_type": "markdown",
   "metadata": {},
   "source": [
    "### Improving Matrix Multiplication using Cython\n",
    "\n",
    "We want to investigate if using Cython can provide a greater speedup."
   ]
  },
  {
   "cell_type": "code",
   "execution_count": 76,
   "metadata": {},
   "outputs": [
    {
     "name": "stdout",
     "output_type": "stream",
     "text": [
      "The Cython extension is already loaded. To reload it, use:\n",
      "  %reload_ext Cython\n"
     ]
    }
   ],
   "source": [
    "%load_ext Cython"
   ]
  },
  {
   "cell_type": "code",
   "execution_count": 111,
   "metadata": {},
   "outputs": [],
   "source": [
    "%%cython\n",
    "\n",
    "# cython: profile=True\n",
    "# cython: linetrace=True\n",
    "# cython: binding=True\n",
    "# distutils: define_macros=CYTHON_TRACE_NOGIL=1\n",
    "\n",
    "import numpy as np\n",
    "from tqdm import tqdm\n",
    "import argparse\n",
    "from multiprocessing import cpu_count\n",
    "from functools import partial\n",
    "from multiprocessing.pool import Pool\n",
    "import pandas as pd\n",
    "import feather\n",
    "\n",
    "# Matplotlib doesn't play nicely with multiprocessing, so\n",
    "# we have to create a separate graphing function & import matplotlib inside of that.\n",
    "def graphing_function(args, days, norms):\n",
    "    import matplotlib.pyplot as plt\n",
    "    susceptible_pop_norm, infected_pop_norm, recovered_pop_norm = norms\n",
    "    public_trans_vec = np.asarray([float(i.replace('[', '').replace(',','').replace(']','')) for i in args.public_trans_vec])\n",
    "    # plot results and save the plot\n",
    "    fig = plt.figure()\n",
    "    ax = plt.axes()\n",
    "    ax.spines['right'].set_visible(False)\n",
    "    ax.spines['top'].set_visible(False)\n",
    "    ax.spines['left'].set_visible(False)\n",
    "    ax.plot(np.arange(days), susceptible_pop_norm, label='Susceptible', color='#4aa5f0', linewidth=2)\n",
    "    ax.plot(np.arange(days), infected_pop_norm, label='Infected', color='#f03737', linewidth=2)\n",
    "    ax.plot(np.arange(days), recovered_pop_norm, label='Recovered', color='#82e88a', linewidth=2)\n",
    "    ax.plot(np.arange(days), public_trans_vec, '--', label='Transit', color='k', linewidth=2)\n",
    "    ax.legend(frameon=False)\n",
    "    ax.set_xlabel(\"Days\")\n",
    "    ax.set_ylabel(\"Share of Population\")\n",
    "    if 'fig_name' in args:\n",
    "        ax.figure.savefig('figures/' + args.fig_name + '.png')\n",
    "    else:\n",
    "        ax.figure.savefig('figures/sir_plot.png')\n",
    "    plt.close()\n",
    "    \n",
    "# Convenience function: access Python dict keys as dict.key instead of dict['key']\n",
    "class objdict(dict):\n",
    "    def __getattr__(self, name):\n",
    "        if name in self:\n",
    "            return self[name]\n",
    "        else:\n",
    "            raise AttributeError(\"No such attribute: \" + name)\n",
    "\n",
    "    def __setattr__(self, name, value):\n",
    "        self[name] = value\n",
    "\n",
    "    def __delattr__(self, name):\n",
    "        if name in self:\n",
    "            del self[name]\n",
    "        else:\n",
    "            raise AttributeError(\"No such attribute: \" + name)\n",
    "            \n",
    "# Run n simulations in parallel: for each run, parameters are randomly sampled from an interval\n",
    "# NOTE: Are these intervals reasonable?\n",
    "def multiprocess(args):\n",
    "\n",
    "    chunks = []\n",
    "    num_procs = args.randomize\n",
    "    for _ in range(num_procs):\n",
    "        d = dict()\n",
    "        d['origin_matrix_path'] = args.origin_matrix_path\n",
    "        d['thresh1'] = np.random.randint(0, 350)\n",
    "        d['thresh2'] = np.random.randint(d['thresh1'], 700)\n",
    "        d['infection_magnitude'] = np.random.randint(5, 15)\n",
    "        d['beta'] = args.beta\n",
    "        d['gamma'] = args.gamma\n",
    "        d['public_trans'] = np.random.randint(1, 7) * 0.1\n",
    "        d['public_trans_vec'] = np.asarray([i.replace('[', '').replace(',','').replace(']','') for i in args.public_trans_vec if i!=']'])\n",
    "        d['days'] = args.days\n",
    "        d['fig_name'] = 'public_trans_{:0.1f}_({}, {})_inf_{}'.format(d['public_trans'], d['thresh1'], d['thresh2'], d['infection_magnitude'])\n",
    "        d['loading'] = args.loading\n",
    "        d = objdict(d)\n",
    "        chunks.append(d)\n",
    "\n",
    "    with Pool(num_procs) as p:\n",
    "        p.map(covid_sim, chunks)\n",
    "\n",
    "    p.join()\n",
    "\n",
    "def covid_sim(args):\n",
    "    # Read in origin-destination flow matrix\n",
    "    if int(args.loading) == 0:\n",
    "        OD = np.genfromtxt(args.origin_matrix_path, delimiter=',')\n",
    "        \n",
    "    elif int(args.loading) == 1:\n",
    "        OD = pd.read_csv('data/nyc_od.csv', header=None, dtype=np.float64).to_numpy()\n",
    "        \n",
    "    elif int(args.loading) == 2:\n",
    "        OD = feather.read_dataframe('data/nyc_od.feather').to_numpy()\n",
    "    \n",
    "\n",
    "    # initialize the population vector from the origin-destination flow matrix\n",
    "    N_k = np.abs(np.diagonal(OD) + OD.sum(axis=0) - OD.sum(axis=1))\n",
    "    locs_len = len(N_k)                 # number of locations\n",
    "    SIR = np.zeros(shape=(locs_len, 3)) # make a numpy array with 3 columns for keeping track of the S, I, R groups\n",
    "    SIR[:,0] = N_k                      # initialize the S group with the respective populations\n",
    "    thresh1 = args.thresh1\n",
    "    thresh2 = args.thresh2\n",
    "\n",
    "    first_infections = np.where((thresh1 <= SIR[:, 0]) & (SIR[:, 0] <= thresh2), np.random.randint(1, args.infection_magnitude), 0)   # for demo purposes, randomly introduce infections\n",
    "    # NOTE: this is arbitrary but not actually random.... \n",
    "    SIR[:, 0] = SIR[:, 0] - first_infections\n",
    "    SIR[:, 1] = SIR[:, 1] + first_infections                           # move infections to the I group\n",
    "\n",
    "    # row normalize the SIR matrix for keeping track of group proportions\n",
    "    row_sums = SIR.sum(axis=1)\n",
    "    SIR_n = SIR / row_sums[:, np.newaxis]\n",
    "\n",
    "    # initialize parameters\n",
    "    beta = args.beta\n",
    "    gamma = args.gamma\n",
    "    public_trans = args.public_trans                                 # alpha\n",
    "    R0 = beta/gamma\n",
    "    beta_vec = np.random.gamma(beta, 2, locs_len)\n",
    "    gamma_vec = np.full(locs_len, gamma)\n",
    "    public_trans_vec = args.public_trans_vec\n",
    "    print(type(public_trans_vec[0]))\n",
    "    print(public_trans_vec)\n",
    "    if isinstance(public_trans_vec[0], str):\n",
    "        public_trans_vec = np.asarray([float(i.replace('[', '').replace(',','').replace(']','')) for i in args.public_trans_vec if i!=']'])\n",
    "    print(type(public_trans_vec[0]))\n",
    "    print(public_trans_vec)\n",
    "\n",
    "    # make copy of the SIR matrices \n",
    "    SIR_sim = SIR.copy()\n",
    "    SIR_nsim = SIR_n.copy()\n",
    "\n",
    "    # run model\n",
    "    #print(SIR_sim.sum(axis=0).sum() == N_k.sum())\n",
    "    infected_pop_norm = []\n",
    "    susceptible_pop_norm = []\n",
    "    recovered_pop_norm = []\n",
    "    days = args.days\n",
    "    for time_step in tqdm(range(days)):\n",
    "        infected_mat = np.array([SIR_nsim[:,1],]*locs_len).transpose()\n",
    "        OD_infected = np.round(OD*infected_mat)\n",
    "        inflow_infected = OD_infected.sum(axis=0)\n",
    "        inflow_infected = np.round(inflow_infected*public_trans_vec[time_step])\n",
    "        #print('total infected inflow: ', inflow_infected.sum())\n",
    "        new_infect = beta_vec*SIR_sim[:, 0]*inflow_infected/(N_k + OD.sum(axis=0))\n",
    "        new_recovered = gamma_vec*SIR_sim[:, 1]\n",
    "        new_infect = np.where(new_infect>SIR_sim[:, 0], SIR_sim[:, 0], new_infect)\n",
    "        SIR_sim[:, 0] = SIR_sim[:, 0] - new_infect\n",
    "        SIR_sim[:, 1] = SIR_sim[:, 1] + new_infect - new_recovered\n",
    "        SIR_sim[:, 2] = SIR_sim[:, 2] + new_recovered\n",
    "        SIR_sim = np.where(SIR_sim<0,0,SIR_sim)\n",
    "        # recompute the normalized SIR matrix\n",
    "        row_sums = SIR_sim.sum(axis=1)\n",
    "        SIR_nsim = SIR_sim / row_sums[:, np.newaxis]\n",
    "        S = SIR_sim[:,0].sum()/N_k.sum()\n",
    "        I = SIR_sim[:,1].sum()/N_k.sum()\n",
    "        R = SIR_sim[:,2].sum()/N_k.sum()\n",
    "        #print(S, I, R, (S+I+R)*N_k.sum(), N_k.sum())\n",
    "        #print('\\n')\n",
    "        infected_pop_norm.append(I)\n",
    "        susceptible_pop_norm.append(S)\n",
    "        recovered_pop_norm.append(R)\n",
    "\n",
    "    graphing_function(args, days, (susceptible_pop_norm, infected_pop_norm, recovered_pop_norm))\n",
    "\n",
    "def covid_sim_serial(args):\n",
    "    for i in range(args.randomize):\n",
    "        covid_sim(args)"
   ]
  },
  {
   "cell_type": "code",
   "execution_count": 219,
   "metadata": {},
   "outputs": [
    {
     "name": "stderr",
     "output_type": "stream",
     "text": [
      "100%|██████████| 100/100 [00:03<00:00, 28.81it/s]\n",
      "100%|██████████| 100/100 [00:03<00:00, 32.97it/s]\n",
      "100%|██████████| 100/100 [00:02<00:00, 33.95it/s]\n",
      "100%|██████████| 100/100 [00:04<00:00, 24.81it/s]\n"
     ]
    }
   ],
   "source": [
    "%lprun -f covid_sim_serial covid_sim_serial(args3)"
   ]
  },
  {
   "cell_type": "raw",
   "metadata": {},
   "source": [
    "Timer unit: 1e-06 s\n",
    "\n",
    "Total time: 14.2226 s\n",
    "File: /Users/sree/.ipython/cython/_cython_magic_192a6ecac340796dc67f00b840b5d0f2.pyx\n",
    "Function: covid_sim_serial at line 157\n",
    "\n",
    "Line #      Hits         Time  Per Hit   % Time  Line Contents\n",
    "==============================================================\n",
    "   157                                           def covid_sim_serial(args):\n",
    "   158         5         13.0      2.6      0.0      for i in range(args.randomize):\n",
    "   159         4   14222618.0 3555654.5    100.0          covid_sim(args)"
   ]
  },
  {
   "cell_type": "code",
   "execution_count": 220,
   "metadata": {},
   "outputs": [
    {
     "name": "stderr",
     "output_type": "stream",
     "text": [
      "100%|██████████| 100/100 [00:09<00:00, 11.80it/s]\n",
      "\n",
      "100%|██████████| 100/100 [00:09<00:00, 11.56it/s]\n",
      "100%|██████████| 100/100 [00:09<00:00, 11.25it/s]\n"
     ]
    }
   ],
   "source": [
    "%lprun -f multiprocess multiprocess(args3)"
   ]
  },
  {
   "cell_type": "raw",
   "metadata": {},
   "source": [
    "Timer unit: 1e-06 s\n",
    "\n",
    "Total time: 10.3618 s\n",
    "File: /Users/sree/.ipython/cython/_cython_magic_192a6ecac340796dc67f00b840b5d0f2.pyx\n",
    "Function: multiprocess at line 58\n",
    "\n",
    "Line #      Hits         Time  Per Hit   % Time  Line Contents\n",
    "==============================================================\n",
    "    58                                           def multiprocess(args):\n",
    "    59                                           \n",
    "    60         1          4.0      4.0      0.0      chunks = []\n",
    "    61         1          1.0      1.0      0.0      num_procs = args.randomize\n",
    "    62         5          5.0      1.0      0.0      for _ in range(num_procs):\n",
    "    63         4          1.0      0.2      0.0          d = dict()\n",
    "    64         4          3.0      0.8      0.0          d['origin_matrix_path'] = args.origin_matrix_path\n",
    "    65         4         24.0      6.0      0.0          d['thresh1'] = np.random.randint(0, 350)\n",
    "    66         4          9.0      2.2      0.0          d['thresh2'] = np.random.randint(d['thresh1'], 700)\n",
    "    67         4          6.0      1.5      0.0          d['infection_magnitude'] = np.random.randint(5, 15)\n",
    "    68         4          3.0      0.8      0.0          d['beta'] = 1.6\n",
    "    69         4          2.0      0.5      0.0          d['gamma'] = 0.04\n",
    "    70         4          7.0      1.8      0.0          d['public_trans'] = np.random.randint(1, 7) * 0.1\n",
    "    71         4          1.0      0.2      0.0          d['days'] = 200\n",
    "    72         4         10.0      2.5      0.0          d['fig_name'] = 'public_trans_{:0.1f}_({}, {})_inf_{}'.format(d['public_trans'], d['thresh1'], d['thresh2'], d['infection_magnitude'])\n",
    "    73         4          2.0      0.5      0.0          d['loading'] = args.loading\n",
    "    74         4          5.0      1.2      0.0          d = objdict(d)\n",
    "    75         4          1.0      0.2      0.0          chunks.append(d)\n",
    "    76                                           \n",
    "    77         1      33542.0  33542.0      0.3      with Pool(num_procs) as p:\n",
    "    78         1   10326529.0 10326529.0     99.7          p.map(covid_sim, chunks)\n",
    "    79                                           \n",
    "    80         1       1681.0   1681.0      0.0      p.join()"
   ]
  },
  {
   "cell_type": "markdown",
   "metadata": {},
   "source": [
    "We see a slight speed up when compiling with Cython without specifying the types of the variables for both serial and multiprocessing."
   ]
  },
  {
   "cell_type": "code",
   "execution_count": 225,
   "metadata": {},
   "outputs": [
    {
     "name": "stderr",
     "output_type": "stream",
     "text": [
      "100%|██████████| 100/100 [00:03<00:00, 34.33it/s]\n"
     ]
    }
   ],
   "source": [
    "%lprun -f covid_sim covid_sim(args3)"
   ]
  },
  {
   "cell_type": "markdown",
   "metadata": {},
   "source": [
    "### Cython + Removing tqdm\n",
    "\n",
    "We wanted to see if removing tqdm could provide an additional speedup."
   ]
  },
  {
   "cell_type": "code",
   "execution_count": 84,
   "metadata": {},
   "outputs": [],
   "source": [
    "%%cython\n",
    "\n",
    "# cython: profile=True\n",
    "# cython: linetrace=True\n",
    "# cython: binding=True\n",
    "# distutils: define_macros=CYTHON_TRACE_NOGIL=1\n",
    "\n",
    "import numpy as np\n",
    "from tqdm import tqdm\n",
    "import argparse\n",
    "from multiprocessing import cpu_count\n",
    "from functools import partial\n",
    "from multiprocessing.pool import Pool\n",
    "import pandas as pd\n",
    "import feather\n",
    "\n",
    "# Matplotlib doesn't play nicely with multiprocessing, so\n",
    "# we have to create a separate graphing function & import matplotlib inside of that.\n",
    "def graphing_function(args, days, norms):\n",
    "    import matplotlib.pyplot as plt\n",
    "    susceptible_pop_norm, infected_pop_norm, recovered_pop_norm = norms\n",
    "    public_trans_vec = np.asarray([float(i.replace('[', '').replace(',','').replace(']','')) for i in args.public_trans_vec])\n",
    "    # plot results and save the plot\n",
    "    fig = plt.figure()\n",
    "    ax = plt.axes()\n",
    "    ax.spines['right'].set_visible(False)\n",
    "    ax.spines['top'].set_visible(False)\n",
    "    ax.spines['left'].set_visible(False)\n",
    "    ax.plot(np.arange(days), susceptible_pop_norm, label='Susceptible', color='#4aa5f0', linewidth=2)\n",
    "    ax.plot(np.arange(days), infected_pop_norm, label='Infected', color='#f03737', linewidth=2)\n",
    "    ax.plot(np.arange(days), recovered_pop_norm, label='Recovered', color='#82e88a', linewidth=2)\n",
    "    ax.plot(np.arange(days), public_trans_vec, '--', label='Transit', color='k', linewidth=2)\n",
    "    ax.legend(frameon=False)\n",
    "    ax.set_xlabel(\"Days\")\n",
    "    ax.set_ylabel(\"Share of Population\")\n",
    "    if 'fig_name' in args:\n",
    "        ax.figure.savefig('figures/' + args.fig_name + '.png')\n",
    "    else:\n",
    "        ax.figure.savefig('figures/sir_plot.png')\n",
    "    plt.close()\n",
    "    \n",
    "# Convenience function: access Python dict keys as dict.key instead of dict['key']\n",
    "class objdict(dict):\n",
    "    def __getattr__(self, name):\n",
    "        if name in self:\n",
    "            return self[name]\n",
    "        else:\n",
    "            raise AttributeError(\"No such attribute: \" + name)\n",
    "\n",
    "    def __setattr__(self, name, value):\n",
    "        self[name] = value\n",
    "\n",
    "    def __delattr__(self, name):\n",
    "        if name in self:\n",
    "            del self[name]\n",
    "        else:\n",
    "            raise AttributeError(\"No such attribute: \" + name)\n",
    "            \n",
    "# Run n simulations in parallel: for each run, parameters are randomly sampled from an interval\n",
    "# NOTE: Are these intervals reasonable?\n",
    "def multiprocess(args):\n",
    "\n",
    "    chunks = []\n",
    "    num_procs = args.randomize\n",
    "    for _ in range(num_procs):\n",
    "        d = dict()\n",
    "        d['origin_matrix_path'] = args.origin_matrix_path\n",
    "        d['thresh1'] = np.random.randint(0, 350)\n",
    "        d['thresh2'] = np.random.randint(d['thresh1'], 700)\n",
    "        d['infection_magnitude'] = np.random.randint(5, 15)\n",
    "        d['beta'] = args.beta\n",
    "        d['gamma'] = args.gamma\n",
    "        d['public_trans'] = np.random.randint(1, 7) * 0.1\n",
    "        d['public_trans_vec'] = np.asarray([i.replace('[', '').replace(',','').replace(']','') for i in args.public_trans_vec])\n",
    "        d['days'] = args.days\n",
    "        d['fig_name'] = 'public_trans_{:0.1f}_({}, {})_inf_{}'.format(d['public_trans'], d['thresh1'], d['thresh2'], d['infection_magnitude'])\n",
    "        d['loading'] = args.loading\n",
    "        d = objdict(d)\n",
    "        chunks.append(d)\n",
    "\n",
    "    with Pool(num_procs) as p:\n",
    "        p.map(covid_sim, chunks)\n",
    "\n",
    "    p.join()\n",
    "\n",
    "def covid_sim(args):\n",
    "    # Read in origin-destination flow matrix\n",
    "    if int(args.loading) == 0:\n",
    "        OD = np.genfromtxt(args.origin_matrix_path, delimiter=',')\n",
    "        \n",
    "    elif int(args.loading) == 1:\n",
    "        OD = pd.read_csv('data/nyc_od.csv', header=None, dtype=np.float64).to_numpy()\n",
    "        \n",
    "    elif int(args.loading) == 2:\n",
    "        OD = feather.read_dataframe('data/nyc_od.feather').to_numpy()\n",
    "    \n",
    "\n",
    "    # initialize the population vector from the origin-destination flow matrix\n",
    "    N_k = np.abs(np.diagonal(OD) + OD.sum(axis=0) - OD.sum(axis=1))\n",
    "    locs_len = len(N_k)                 # number of locations\n",
    "    SIR = np.zeros(shape=(locs_len, 3)) # make a numpy array with 3 columns for keeping track of the S, I, R groups\n",
    "    SIR[:,0] = N_k                      # initialize the S group with the respective populations\n",
    "    thresh1 = args.thresh1\n",
    "    thresh2 = args.thresh2\n",
    "\n",
    "    first_infections = np.where((thresh1 <= SIR[:, 0]) & (SIR[:, 0] <= thresh2), np.random.randint(1, args.infection_magnitude), 0)   # for demo purposes, randomly introduce infections\n",
    "    # NOTE: this is arbitrary but not actually random.... \n",
    "    SIR[:, 0] = SIR[:, 0] - first_infections\n",
    "    SIR[:, 1] = SIR[:, 1] + first_infections                           # move infections to the I group\n",
    "\n",
    "    # row normalize the SIR matrix for keeping track of group proportions\n",
    "    row_sums = SIR.sum(axis=1)\n",
    "    SIR_n = SIR / row_sums[:, np.newaxis]\n",
    "\n",
    "    # initialize parameters\n",
    "    beta = args.beta\n",
    "    gamma = args.gamma\n",
    "    public_trans = args.public_trans                                 # alpha\n",
    "    R0 = beta/gamma\n",
    "    beta_vec = np.random.gamma(beta, 2, locs_len)\n",
    "    gamma_vec = np.full(locs_len, gamma)\n",
    "    public_trans_vec = args.public_trans_vec\n",
    "    if isinstance(public_trans_vec[0], str):\n",
    "        public_trans_vec = np.asarray([float(i.replace('[', '').replace(',','').replace(']','')) for i in public_trans_vec if i != ']'])\n",
    "\n",
    "    # make copy of the SIR matrices \n",
    "    SIR_sim = SIR.copy()\n",
    "    SIR_nsim = SIR_n.copy()\n",
    "\n",
    "    # run model\n",
    "    #print(SIR_sim.sum(axis=0).sum() == N_k.sum())\n",
    "    infected_pop_norm = []\n",
    "    susceptible_pop_norm = []\n",
    "    recovered_pop_norm = []\n",
    "    days = args.days\n",
    "    for time_step in range(days):\n",
    "        infected_mat = np.array([SIR_nsim[:,1],]*locs_len).transpose()\n",
    "        OD_infected = np.round(OD*infected_mat)\n",
    "        inflow_infected = OD_infected.sum(axis=0)\n",
    "        inflow_infected = np.round(inflow_infected*public_trans_vec[time_step])\n",
    "        #print('total infected inflow: ', inflow_infected.sum())\n",
    "        new_infect = beta_vec*SIR_sim[:, 0]*inflow_infected/(N_k + OD.sum(axis=0))\n",
    "        new_recovered = gamma_vec*SIR_sim[:, 1]\n",
    "        new_infect = np.where(new_infect>SIR_sim[:, 0], SIR_sim[:, 0], new_infect)\n",
    "        SIR_sim[:, 0] = SIR_sim[:, 0] - new_infect\n",
    "        SIR_sim[:, 1] = SIR_sim[:, 1] + new_infect - new_recovered\n",
    "        SIR_sim[:, 2] = SIR_sim[:, 2] + new_recovered\n",
    "        SIR_sim = np.where(SIR_sim<0,0,SIR_sim)\n",
    "        # recompute the normalized SIR matrix\n",
    "        row_sums = SIR_sim.sum(axis=1)\n",
    "        SIR_nsim = SIR_sim / row_sums[:, np.newaxis]\n",
    "        S = SIR_sim[:,0].sum()/N_k.sum()\n",
    "        I = SIR_sim[:,1].sum()/N_k.sum()\n",
    "        R = SIR_sim[:,2].sum()/N_k.sum()\n",
    "        #print(S, I, R, (S+I+R)*N_k.sum(), N_k.sum())\n",
    "        #print('\\n')\n",
    "        infected_pop_norm.append(I)\n",
    "        susceptible_pop_norm.append(S)\n",
    "        recovered_pop_norm.append(R)\n",
    "\n",
    "    graphing_function(args, days, (susceptible_pop_norm, infected_pop_norm, recovered_pop_norm))\n",
    "\n",
    "def covid_sim_serial(args):\n",
    "    for i in range(args.randomize):\n",
    "        covid_sim(args)"
   ]
  },
  {
   "cell_type": "code",
   "execution_count": 68,
   "metadata": {},
   "outputs": [
    {
     "data": {
      "text/plain": [
       "Timer unit: 1e-07 s\n",
       "\n",
       "Total time: 79.8093 s\n",
       "File: C:\\Users\\Ross\\.ipython\\cython\\_cython_magic_864806b3b08c778da4482741aec04b00.pyx\n",
       "Function: covid_sim_serial at line 162\n",
       "\n",
       "Line #      Hits         Time  Per Hit   % Time  Line Contents\n",
       "==============================================================\n",
       "   162                                           def covid_sim_serial(args):\n",
       "   163         5        199.0     39.8      0.0      for i in range(args.randomize):\n",
       "   164         4  798093064.0 199523266.0    100.0          covid_sim(args)"
      ]
     },
     "metadata": {},
     "output_type": "display_data"
    }
   ],
   "source": [
    "%lprun -f covid_sim_serial covid_sim_serial(args3)"
   ]
  },
  {
   "cell_type": "raw",
   "metadata": {},
   "source": [
    "Timer unit: 1e-06 s\n",
    "\n",
    "Total time: 11.9808 s\n",
    "File: /Users/sree/.ipython/cython/_cython_magic_adb40bf18cf3302aa647adf2af62d3bc.pyx\n",
    "Function: covid_sim_serial at line 156\n",
    "\n",
    "Line #      Hits         Time  Per Hit   % Time  Line Contents\n",
    "==============================================================\n",
    "   156                                           def covid_sim_serial(args):\n",
    "   157         5         22.0      4.4      0.0      for i in range(args.randomize):\n",
    "   158         4   11980753.0 2995188.2    100.0          covid_sim(args)"
   ]
  },
  {
   "cell_type": "code",
   "execution_count": 223,
   "metadata": {},
   "outputs": [],
   "source": [
    "%lprun -f multiprocess multiprocess(args3)"
   ]
  },
  {
   "cell_type": "raw",
   "metadata": {},
   "source": [
    "Timer unit: 1e-06 s\n",
    "\n",
    "Total time: 8.57453 s\n",
    "File: /Users/sree/.ipython/cython/_cython_magic_adb40bf18cf3302aa647adf2af62d3bc.pyx\n",
    "Function: multiprocess at line 57\n",
    "\n",
    "Line #      Hits         Time  Per Hit   % Time  Line Contents\n",
    "==============================================================\n",
    "    57                                           def multiprocess(args):\n",
    "    58                                           \n",
    "    59         1          1.0      1.0      0.0      chunks = []\n",
    "    60         1          1.0      1.0      0.0      num_procs = args.randomize\n",
    "    61         5          5.0      1.0      0.0      for _ in range(num_procs):\n",
    "    62         4          1.0      0.2      0.0          d = dict()\n",
    "    63         4          4.0      1.0      0.0          d['origin_matrix_path'] = args.origin_matrix_path\n",
    "    64         4         26.0      6.5      0.0          d['thresh1'] = np.random.randint(0, 350)\n",
    "    65         4         10.0      2.5      0.0          d['thresh2'] = np.random.randint(d['thresh1'], 700)\n",
    "    66         4          8.0      2.0      0.0          d['infection_magnitude'] = np.random.randint(5, 15)\n",
    "    67         4          2.0      0.5      0.0          d['beta'] = 1.6\n",
    "    68         4          1.0      0.2      0.0          d['gamma'] = 0.04\n",
    "    69         4          6.0      1.5      0.0          d['public_trans'] = np.random.randint(1, 7) * 0.1\n",
    "    70         4          0.0      0.0      0.0          d['days'] = 200\n",
    "    71         4          8.0      2.0      0.0          d['fig_name'] = 'public_trans_{:0.1f}_({}, {})_inf_{}'.format(d['public_trans'], d['thresh1'], d['thresh2'], d['infection_magnitude'])\n",
    "    72         4          0.0      0.0      0.0          d['loading'] = args.loading\n",
    "    73         4          4.0      1.0      0.0          d = objdict(d)\n",
    "    74         4          0.0      0.0      0.0          chunks.append(d)\n",
    "    75                                           \n",
    "    76         1      36616.0  36616.0      0.4      with Pool(num_procs) as p:\n",
    "    77         1    8536431.0 8536431.0     99.6          p.map(covid_sim, chunks)\n",
    "    78                                           \n",
    "    79         1       1406.0   1406.0      0.0      p.join()"
   ]
  },
  {
   "cell_type": "markdown",
   "metadata": {},
   "source": [
    "Using feature for loading, using Cython and removing tqdm provided a time reduction for both serial and parallel processes."
   ]
  },
  {
   "cell_type": "markdown",
   "metadata": {},
   "source": [
    "### Cython - with types specified and multiprocessing"
   ]
  },
  {
   "cell_type": "code",
   "execution_count": 9,
   "metadata": {},
   "outputs": [
    {
     "name": "stdout",
     "output_type": "stream",
     "text": [
      "The Cython extension is already loaded. To reload it, use:\n",
      "  %reload_ext Cython\n"
     ]
    }
   ],
   "source": [
    "%load_ext Cython\n",
    "%matplotlib inline"
   ]
  },
  {
   "cell_type": "code",
   "execution_count": 19,
   "metadata": {},
   "outputs": [],
   "source": [
    "%%cython\n",
    "\n",
    "# cython: profile=True\n",
    "# cython: linetrace=True\n",
    "# cython: binding=True\n",
    "# distutils: define_macros=CYTHON_TRACE_NOGIL=1\n",
    "\n",
    "import numpy as np\n",
    "from tqdm import tqdm\n",
    "import argparse\n",
    "from multiprocessing import cpu_count\n",
    "from functools import partial\n",
    "from multiprocessing.pool import Pool\n",
    "import pandas as pd\n",
    "cimport numpy as np\n",
    "\n",
    "def graphing_function(np.ndarray[np.float64_t, ndim=1] infected_pop_norm, \n",
    "                      np.ndarray[np.float64_t, ndim=1] susceptible_pop_norm, \n",
    "                      np.ndarray[np.float64_t, ndim=1] recovered_pop_norm, \n",
    "                      np.ndarray[np.float64_t, ndim=1] public_trans_vec, \n",
    "                      int days, \n",
    "                      fig_name):\n",
    "    import matplotlib.pyplot as plt\n",
    "    # plot results and save the plot\n",
    "    fig = plt.figure()\n",
    "    ax = plt.axes()\n",
    "    ax.spines['right'].set_visible(False)\n",
    "    ax.spines['top'].set_visible(False)\n",
    "    ax.spines['left'].set_visible(False)\n",
    "    ax.plot(np.arange(days), susceptible_pop_norm, label='Susceptible', color='#4aa5f0', linewidth=2)\n",
    "    ax.plot(np.arange(days), infected_pop_norm, label='Infected', color='#f03737', linewidth=2)\n",
    "    ax.plot(np.arange(days), recovered_pop_norm, label='Recovered', color='#82e88a', linewidth=2)\n",
    "    ax.plot(np.arange(days), public_trans_vec, '--', label='Transit', color='k', linewidth=2)\n",
    "    ax.legend(frameon=False, loc='center left', bbox_to_anchor=(1.01, 0.5))\n",
    "    ax.set_xlabel(\"Days\")\n",
    "    ax.set_ylabel(\"Share of Population\")\n",
    "    if fig_name:\n",
    "        ax.figure.savefig('figures/' + fig_name + '.png')\n",
    "    else:\n",
    "        ax.figure.savefig('figures/sir_plot.png')\n",
    "    plt.show()\n",
    "    plt.close()\n",
    "    \n",
    "# Convenience function: access Python dict keys as dict.key instead of dict['key']\n",
    "class objdict(dict):\n",
    "    def __getattr__(self, name):\n",
    "        if name in self:\n",
    "            return self[name]\n",
    "        else:\n",
    "            raise AttributeError(\"No such attribute: \" + name)\n",
    "\n",
    "    def __setattr__(self, name, value):\n",
    "        self[name] = value\n",
    "\n",
    "    def __delattr__(self, name):\n",
    "        if name in self:\n",
    "            del self[name]\n",
    "        else:\n",
    "            raise AttributeError(\"No such attribute: \" + name)\n",
    "            \n",
    "# Run n simulations in parallel: for each run, parameters are randomly sampled from an interval\n",
    "# NOTE: Are these intervals reasonable?\n",
    "def multiprocess(args):\n",
    "\n",
    "    chunks = []\n",
    "    num_procs = args.randomize\n",
    "    for _ in range(num_procs):\n",
    "        d = dict()\n",
    "        d['origin_matrix_path'] = args.origin_matrix_path\n",
    "        d['thresh1'] = np.random.randint(0, 350)\n",
    "        d['thresh2'] = np.random.randint(d['thresh1'], 700)\n",
    "        d['infection_magnitude'] = np.random.randint(5, 15)\n",
    "        d['beta'] = args.beta\n",
    "        d['gamma'] = args.gamma\n",
    "        d['public_trans'] = np.random.randint(1, 7) * 0.1\n",
    "        d['public_trans_vec'] = np.asarray([float(i.replace('[', '').replace(',','').replace(']','')) for i in args.public_trans_vec])\n",
    "        d['days'] = args.days\n",
    "        d['fig_name'] = 'public_trans_{:0.1f}_({}, {})_inf_{}'.format(d['public_trans'], d['thresh1'], d['thresh2'], d['infection_magnitude'])\n",
    "        d['loading'] = args.loading\n",
    "        d = objdict(d)\n",
    "        chunks.append(d)\n",
    "\n",
    "    with Pool(num_procs) as p:\n",
    "        p.map(covid_mp_sim, chunks)\n",
    "\n",
    "    p.join()\n",
    "\n",
    "def covid_serial_sim(args):\n",
    "    # Read in origin-destination flow matrix  \n",
    "    cdef np.ndarray[np.float64_t, ndim=2] OD, SIR, SIR_n, SIR_sim, SIR_nsim, infected_mat, OD_infected \n",
    "    cdef np.ndarray[np.float64_t, ndim=1] N_k, first_infections, row_sums, beta_vec, gamma_vec, inflow_infected, new_infect, new_recovered #, public_trans_vec\n",
    "    cdef int locs_len, time_step\n",
    "    cdef np.float64_t R0, S, I, R\n",
    "    cdef np.ndarray[np.float64_t, ndim=1] infected_pop_norm, susceptible_pop_norm, recovered_pop_norm \n",
    "\n",
    "    if args.loading != 0:\n",
    "        OD = pd.read_csv('data/nyc_od.csv', header=None, dtype=np.float64).to_numpy()\n",
    "    else:\n",
    "        OD = np.genfromtxt(args.origin_matrix_path, delimiter=',')\n",
    "\n",
    "    # initialize the population vector from the origin-destination flow matrix\n",
    "    N_k = np.abs(np.diagonal(OD) + OD.sum(axis=0) - OD.sum(axis=1))\n",
    "    locs_len = len(N_k)                 # number of locations\n",
    "    SIR = np.zeros(shape=(locs_len, 3)) # make a numpy array with 3 columns for keeping track of the S, I, R groups\n",
    "    SIR[:,0] = N_k                      # initialize the S group with the respective populations\n",
    "    thresh1 = args.thresh1\n",
    "    thresh2 = args.thresh2\n",
    "    first_infections = np.where((thresh1 <= SIR[:, 0]) & (SIR[:, 0] <= thresh2), np.random.randint(1, args.infection_magnitude), 0).astype(np.float64)   # for demo purposes, randomly introduce infections\n",
    "    # NOTE: this is arbitrary but not actually random.... \n",
    "    SIR[:, 0] = SIR[:, 0] - first_infections\n",
    "    SIR[:, 1] = SIR[:, 1] + first_infections                           # move infections to the I group\n",
    "\n",
    "    # row normalize the SIR matrix for keeping track of group proportions\n",
    "    row_sums = SIR.sum(axis=1)\n",
    "    SIR_n = SIR / row_sums[:, np.newaxis]\n",
    "\n",
    "    # initialize parameters\n",
    "    beta = args.beta\n",
    "    gamma = args.gamma\n",
    "    public_trans = args.public_trans                                 # alpha\n",
    "    R0 = beta/gamma\n",
    "    beta_vec = np.random.gamma(beta, 2, locs_len)\n",
    "    gamma_vec = np.full(locs_len, gamma)\n",
    "    public_trans_vec = args.public_trans_vec\n",
    "    if isinstance(public_trans_vec[0], str):\n",
    "        public_trans_vec = np.asarray([float(i.replace('[', '').replace(',','').replace(']','')) for i in public_trans_vec])\n",
    "    fig_name = args.fig_name\n",
    "\n",
    "    # make copy of the SIR matrices \n",
    "    SIR_sim = SIR.copy()\n",
    "    SIR_nsim = SIR_n.copy()\n",
    "\n",
    "    # run model\n",
    "    #print(SIR_sim.sum(axis=0).sum() == N_k.sum())\n",
    "    days = args.days\n",
    "    infected_pop_norm = np.zeros(days)\n",
    "    susceptible_pop_norm = np.zeros(days)\n",
    "    recovered_pop_norm = np.zeros(days)\n",
    "    for time_step in tqdm(range(days)):\n",
    "        infected_mat = np.array([SIR_nsim[:,1],]*locs_len).transpose()\n",
    "        OD_infected = np.round(OD*infected_mat)\n",
    "        inflow_infected = OD_infected.sum(axis=0)\n",
    "        inflow_infected = np.round(inflow_infected*public_trans_vec[time_step])\n",
    "        #print('total infected inflow: ', inflow_infected.sum())\n",
    "        new_infect = beta_vec*SIR_sim[:, 0]*inflow_infected/(N_k + OD.sum(axis=0))\n",
    "        new_recovered = gamma_vec*SIR_sim[:, 1]\n",
    "        new_infect = np.where(new_infect>SIR_sim[:, 0], SIR_sim[:, 0], new_infect)\n",
    "        SIR_sim[:, 0] = SIR_sim[:, 0] - new_infect\n",
    "        SIR_sim[:, 1] = SIR_sim[:, 1] + new_infect - new_recovered\n",
    "        SIR_sim[:, 2] = SIR_sim[:, 2] + new_recovered\n",
    "        SIR_sim = np.where(SIR_sim<0,0,SIR_sim)\n",
    "        # recompute the normalized SIR matrix\n",
    "        row_sums = SIR_sim.sum(axis=1)\n",
    "        SIR_nsim = SIR_sim / row_sums[:, np.newaxis]\n",
    "        S = SIR_sim[:,0].sum()/N_k.sum()\n",
    "        I = SIR_sim[:,1].sum()/N_k.sum()\n",
    "        R = SIR_sim[:,2].sum()/N_k.sum()\n",
    "        #print(S, I, R, (S+I+R)*N_k.sum(), N_k.sum())\n",
    "        #print('\\n')\n",
    "        infected_pop_norm[time_step] = I \n",
    "        susceptible_pop_norm[time_step] = S \n",
    "        recovered_pop_norm[time_step] = R\n",
    "\n",
    "    graphing_function(infected_pop_norm, susceptible_pop_norm, recovered_pop_norm, public_trans_vec, days, fig_name)\n",
    "    \n",
    "def covid_mp_sim(args):\n",
    "    # Read in origin-destination flow matrix  \n",
    "    cdef np.ndarray[np.float64_t, ndim=2] OD, SIR, SIR_n, SIR_sim, SIR_nsim, infected_mat, OD_infected \n",
    "    cdef np.ndarray[np.float64_t, ndim=1] N_k, first_infections, row_sums, beta_vec, gamma_vec, inflow_infected, new_infect, new_recovered, public_trans_vec\n",
    "    cdef int locs_len, time_step\n",
    "    cdef np.float64_t R0, S, I, R\n",
    "    cdef np.ndarray[np.float64_t, ndim=1] infected_pop_norm, susceptible_pop_norm, recovered_pop_norm \n",
    "\n",
    "    if args.loading != 0:\n",
    "        OD = pd.read_csv('data/nyc_OD.csv', header=None, dtype=np.float64).to_numpy()\n",
    "    else:\n",
    "        OD = np.genfromtxt(args.origin_matrix_path, delimiter=',')\n",
    "\n",
    "    # initialize the population vector from the origin-destination flow matrix\n",
    "    N_k = np.abs(np.diagonal(OD) + OD.sum(axis=0) - OD.sum(axis=1))\n",
    "    locs_len = len(N_k)                 # number of locations\n",
    "    SIR = np.zeros(shape=(locs_len, 3)) # make a numpy array with 3 columns for keeping track of the S, I, R groups\n",
    "    SIR[:,0] = N_k                      # initialize the S group with the respective populations\n",
    "    thresh1 = args.thresh1\n",
    "    thresh2 = args.thresh2\n",
    "    first_infections = np.where((thresh1 <= SIR[:, 0]) & (SIR[:, 0] <= thresh2), np.random.randint(1, args.infection_magnitude), 0).astype(np.float64)   # for demo purposes, randomly introduce infections\n",
    "    # NOTE: this is arbitrary but not actually random.... \n",
    "    SIR[:, 0] = SIR[:, 0] - first_infections\n",
    "    SIR[:, 1] = SIR[:, 1] + first_infections                           # move infections to the I group\n",
    "\n",
    "    # row normalize the SIR matrix for keeping track of group proportions\n",
    "    row_sums = SIR.sum(axis=1)\n",
    "    SIR_n = SIR / row_sums[:, np.newaxis]\n",
    "\n",
    "    # initialize parameters\n",
    "    beta = args.beta\n",
    "    gamma = args.gamma\n",
    "    public_trans = args.public_trans                                 # alpha\n",
    "    R0 = beta/gamma\n",
    "    beta_vec = np.random.gamma(beta, 2, locs_len)\n",
    "    gamma_vec = np.full(locs_len, gamma)\n",
    "    public_trans_vec = args.public_trans_vec\n",
    "#     if isinstance(public_trans_vec[0], str):\n",
    "#         public_trans_vec = np.asarray([float(i.replace('[', '').replace(',','').replace(']','')) for i in public_trans_vec])\n",
    "    fig_name = args.fig_name\n",
    "\n",
    "    # make copy of the SIR matrices \n",
    "    SIR_sim = SIR.copy()\n",
    "    SIR_nsim = SIR_n.copy()\n",
    "\n",
    "    # run model\n",
    "    #print(SIR_sim.sum(axis=0).sum() == N_k.sum())\n",
    "    days = args.days\n",
    "    infected_pop_norm = np.zeros(days)\n",
    "    susceptible_pop_norm = np.zeros(days)\n",
    "    recovered_pop_norm = np.zeros(days)\n",
    "    for time_step in tqdm(range(days)):\n",
    "        infected_mat = np.array([SIR_nsim[:,1],]*locs_len).transpose()\n",
    "        OD_infected = np.round(OD*infected_mat)\n",
    "        inflow_infected = OD_infected.sum(axis=0)\n",
    "        inflow_infected = np.round(inflow_infected*public_trans_vec[time_step])\n",
    "        #print('total infected inflow: ', inflow_infected.sum())\n",
    "        new_infect = beta_vec*SIR_sim[:, 0]*inflow_infected/(N_k + OD.sum(axis=0))\n",
    "        new_recovered = gamma_vec*SIR_sim[:, 1]\n",
    "        new_infect = np.where(new_infect>SIR_sim[:, 0], SIR_sim[:, 0], new_infect)\n",
    "        SIR_sim[:, 0] = SIR_sim[:, 0] - new_infect\n",
    "        SIR_sim[:, 1] = SIR_sim[:, 1] + new_infect - new_recovered\n",
    "        SIR_sim[:, 2] = SIR_sim[:, 2] + new_recovered\n",
    "        SIR_sim = np.where(SIR_sim<0,0,SIR_sim)\n",
    "        # recompute the normalized SIR matrix\n",
    "        row_sums = SIR_sim.sum(axis=1)\n",
    "        SIR_nsim = SIR_sim / row_sums[:, np.newaxis]\n",
    "        S = SIR_sim[:,0].sum()/N_k.sum()\n",
    "        I = SIR_sim[:,1].sum()/N_k.sum()\n",
    "        R = SIR_sim[:,2].sum()/N_k.sum()\n",
    "        #print(S, I, R, (S+I+R)*N_k.sum(), N_k.sum())\n",
    "        #print('\\n')\n",
    "        infected_pop_norm[time_step] = I \n",
    "        susceptible_pop_norm[time_step] = S \n",
    "        recovered_pop_norm[time_step] = R\n",
    "\n",
    "    graphing_function(infected_pop_norm, susceptible_pop_norm, recovered_pop_norm, public_trans_vec, days, fig_name)"
   ]
  },
  {
   "cell_type": "code",
   "execution_count": 11,
   "metadata": {},
   "outputs": [
    {
     "data": {
      "text/plain": [
       "_StoreAction(option_strings=['--fig-name'], dest='fig_name', nargs=None, const=None, default='figure_1', type=None, choices=None, help=None, metavar=None)"
      ]
     },
     "execution_count": 11,
     "metadata": {},
     "output_type": "execute_result"
    }
   ],
   "source": [
    "parser = argparse.ArgumentParser(description='COVID Simulator')\n",
    "parser.add_argument('--randomize', type=int, default=0)\n",
    "parser.add_argument('--origin-matrix-path', default='data/nyc_od.csv')\n",
    "parser.add_argument('--thresh1', type=int, default=0)\n",
    "parser.add_argument('--thresh2', type=int, default=100)\n",
    "parser.add_argument('--infection-magnitude', type=int, default=10)\n",
    "parser.add_argument('--beta', type=float, default=0.75)\n",
    "parser.add_argument('--gamma', type=float, default=0.2)\n",
    "parser.add_argument('--public-trans', type=float, default=0.56)\n",
    "parser.add_argument('--public-trans-vec', nargs='+', default=[])\n",
    "parser.add_argument('--days', type=int, default=100)\n",
    "parser.add_argument('--img-folder', default='figures/')\n",
    "parser.add_argument('--loading', default = 0)\n",
    "parser.add_argument('--fig-name', default = 'figure_1')"
   ]
  },
  {
   "cell_type": "code",
   "execution_count": 13,
   "metadata": {},
   "outputs": [
    {
     "name": "stderr",
     "output_type": "stream",
     "text": [
      "100%|██████████| 100/100 [00:04<00:00, 23.35it/s]\n"
     ]
    },
    {
     "data": {
      "image/png": "[encoded data removed]",
      "text/plain": [
       "<Figure size 432x288 with 1 Axes>"
      ]
     },
     "metadata": {},
     "output_type": "display_data"
    }
   ],
   "source": [
    "ptv = generate_ptv(public_trans=0.56, days=100, scenario='1')\n",
    "args1 = parser.parse_args(f'--randomize 4 --public-trans-vec {ptv} --loading 0'.split())\n",
    "covid_serial_sim(args1)"
   ]
  },
  {
   "cell_type": "code",
   "execution_count": 20,
   "metadata": {},
   "outputs": [
    {
     "name": "stderr",
     "output_type": "stream",
     "text": [
      "100%|██████████| 100/100 [00:14<00:00,  6.97it/s]\n",
      "100%|██████████| 100/100 [00:14<00:00,  6.99it/s]\n",
      "100%|██████████| 100/100 [00:14<00:00,  6.95it/s]\n",
      "100%|██████████| 100/100 [00:14<00:00,  6.87it/s]\n"
     ]
    },
    {
     "data": {
      "image/png": "[encoded data removed]",
      "text/plain": [
       "<Figure size 432x288 with 1 Axes>"
      ]
     },
     "metadata": {},
     "output_type": "display_data"
    },
    {
     "data": {
      "image/png": "[encoded data removed]",
      "text/plain": [
       "<Figure size 432x288 with 1 Axes>"
      ]
     },
     "metadata": {},
     "output_type": "display_data"
    },
    {
     "data": {
      "image/png": "[encoded data removed]",
      "text/plain": [
       "<Figure size 432x288 with 1 Axes>"
      ]
     },
     "metadata": {},
     "output_type": "display_data"
    },
    {
     "data": {
      "image/png": "[encoded data removed]",
      "text/plain": [
       "<Figure size 432x288 with 1 Axes>"
      ]
     },
     "metadata": {},
     "output_type": "display_data"
    }
   ],
   "source": [
    "ptv = generate_ptv(public_trans=0.56, days=100, scenario='1')\n",
    "args1 = parser.parse_args(f'--randomize 4 --public-trans-vec {ptv} --loading 0'.split())\n",
    "multiprocess(args1)"
   ]
  },
  {
   "cell_type": "code",
   "execution_count": 56,
   "metadata": {
    "collapsed": true,
    "jupyter": {
     "outputs_hidden": true,
     "source_hidden": true
    }
   },
   "outputs": [
    {
     "data": {
      "text/plain": [
       "_StoreAction(option_strings=['--loading'], dest='loading', nargs=None, const=None, default=0, type=None, choices=None, help=None, metavar=None)"
      ]
     },
     "execution_count": 56,
     "metadata": {},
     "output_type": "execute_result"
    }
   ],
   "source": [
    "parser = argparse.ArgumentParser(description='COVID Simulator')\n",
    "parser.add_argument('--randomize', type=int, default=0)\n",
    "parser.add_argument('--origin-matrix-path', default='data/nyc_od.csv')\n",
    "parser.add_argument('--thresh1', type=int, default=0)\n",
    "parser.add_argument('--thresh2', type=int, default=100)\n",
    "parser.add_argument('--infection-magnitude', type=int, default=10)\n",
    "parser.add_argument('--beta', type=float, default=0.75)\n",
    "parser.add_argument('--gamma', type=float, default=0.2)\n",
    "parser.add_argument('--public-trans', type=float, default=0.56)\n",
    "parser.add_argument('--public-trans-vec', nargs='+', default=[])\n",
    "parser.add_argument('--days', type=int, default=100)\n",
    "parser.add_argument('--img-folder', default='figures/')\n",
    "parser.add_argument('--loading', default = 0)"
   ]
  },
  {
   "cell_type": "code",
   "execution_count": 65,
   "metadata": {
    "jupyter": {
     "source_hidden": true
    }
   },
   "outputs": [],
   "source": [
    "args1 = parser.parse_args(f'--randomize 4 --gamma 0.2 --public-trans-vec {ptv}'.split())"
   ]
  },
  {
   "cell_type": "code",
   "execution_count": 59,
   "metadata": {
    "collapsed": true,
    "jupyter": {
     "outputs_hidden": true,
     "source_hidden": true
    }
   },
   "outputs": [
    {
     "ename": "AttributeError",
     "evalue": "'dict' object has no attribute 'loading'",
     "output_type": "error",
     "traceback": [
      "\u001b[1;31m---------------------------------------------------------------------------\u001b[0m",
      "\u001b[1;31mAttributeError\u001b[0m                            Traceback (most recent call last)",
      "\u001b[1;32m<ipython-input-59-c3d309d7bdd7>\u001b[0m in \u001b[0;36m<module>\u001b[1;34m\u001b[0m\n\u001b[1;32m----> 1\u001b[1;33m \u001b[0mget_ipython\u001b[0m\u001b[1;33m(\u001b[0m\u001b[1;33m)\u001b[0m\u001b[1;33m.\u001b[0m\u001b[0mrun_line_magic\u001b[0m\u001b[1;33m(\u001b[0m\u001b[1;34m'lprun'\u001b[0m\u001b[1;33m,\u001b[0m \u001b[1;34m'-f covid_sim covid_sim(args1)'\u001b[0m\u001b[1;33m)\u001b[0m\u001b[1;33m\u001b[0m\u001b[1;33m\u001b[0m\u001b[0m\n\u001b[0m",
      "\u001b[1;32m~\\Anaconda3\\envs\\advpy\\lib\\site-packages\\IPython\\core\\interactiveshell.py\u001b[0m in \u001b[0;36mrun_line_magic\u001b[1;34m(self, magic_name, line, _stack_depth)\u001b[0m\n\u001b[0;32m   2315\u001b[0m                 \u001b[0mkwargs\u001b[0m\u001b[1;33m[\u001b[0m\u001b[1;34m'local_ns'\u001b[0m\u001b[1;33m]\u001b[0m \u001b[1;33m=\u001b[0m \u001b[0msys\u001b[0m\u001b[1;33m.\u001b[0m\u001b[0m_getframe\u001b[0m\u001b[1;33m(\u001b[0m\u001b[0mstack_depth\u001b[0m\u001b[1;33m)\u001b[0m\u001b[1;33m.\u001b[0m\u001b[0mf_locals\u001b[0m\u001b[1;33m\u001b[0m\u001b[1;33m\u001b[0m\u001b[0m\n\u001b[0;32m   2316\u001b[0m             \u001b[1;32mwith\u001b[0m \u001b[0mself\u001b[0m\u001b[1;33m.\u001b[0m\u001b[0mbuiltin_trap\u001b[0m\u001b[1;33m:\u001b[0m\u001b[1;33m\u001b[0m\u001b[1;33m\u001b[0m\u001b[0m\n\u001b[1;32m-> 2317\u001b[1;33m                 \u001b[0mresult\u001b[0m \u001b[1;33m=\u001b[0m \u001b[0mfn\u001b[0m\u001b[1;33m(\u001b[0m\u001b[1;33m*\u001b[0m\u001b[0margs\u001b[0m\u001b[1;33m,\u001b[0m \u001b[1;33m**\u001b[0m\u001b[0mkwargs\u001b[0m\u001b[1;33m)\u001b[0m\u001b[1;33m\u001b[0m\u001b[1;33m\u001b[0m\u001b[0m\n\u001b[0m\u001b[0;32m   2318\u001b[0m             \u001b[1;32mreturn\u001b[0m \u001b[0mresult\u001b[0m\u001b[1;33m\u001b[0m\u001b[1;33m\u001b[0m\u001b[0m\n\u001b[0;32m   2319\u001b[0m \u001b[1;33m\u001b[0m\u001b[0m\n",
      "\u001b[1;32m<decorator-gen-127>\u001b[0m in \u001b[0;36mlprun\u001b[1;34m(self, parameter_s)\u001b[0m\n",
      "\u001b[1;32m~\\Anaconda3\\envs\\advpy\\lib\\site-packages\\IPython\\core\\magic.py\u001b[0m in \u001b[0;36m<lambda>\u001b[1;34m(f, *a, **k)\u001b[0m\n\u001b[0;32m    185\u001b[0m     \u001b[1;31m# but it's overkill for just that one bit of state.\u001b[0m\u001b[1;33m\u001b[0m\u001b[1;33m\u001b[0m\u001b[1;33m\u001b[0m\u001b[0m\n\u001b[0;32m    186\u001b[0m     \u001b[1;32mdef\u001b[0m \u001b[0mmagic_deco\u001b[0m\u001b[1;33m(\u001b[0m\u001b[0marg\u001b[0m\u001b[1;33m)\u001b[0m\u001b[1;33m:\u001b[0m\u001b[1;33m\u001b[0m\u001b[1;33m\u001b[0m\u001b[0m\n\u001b[1;32m--> 187\u001b[1;33m         \u001b[0mcall\u001b[0m \u001b[1;33m=\u001b[0m \u001b[1;32mlambda\u001b[0m \u001b[0mf\u001b[0m\u001b[1;33m,\u001b[0m \u001b[1;33m*\u001b[0m\u001b[0ma\u001b[0m\u001b[1;33m,\u001b[0m \u001b[1;33m**\u001b[0m\u001b[0mk\u001b[0m\u001b[1;33m:\u001b[0m \u001b[0mf\u001b[0m\u001b[1;33m(\u001b[0m\u001b[1;33m*\u001b[0m\u001b[0ma\u001b[0m\u001b[1;33m,\u001b[0m \u001b[1;33m**\u001b[0m\u001b[0mk\u001b[0m\u001b[1;33m)\u001b[0m\u001b[1;33m\u001b[0m\u001b[1;33m\u001b[0m\u001b[0m\n\u001b[0m\u001b[0;32m    188\u001b[0m \u001b[1;33m\u001b[0m\u001b[0m\n\u001b[0;32m    189\u001b[0m         \u001b[1;32mif\u001b[0m \u001b[0mcallable\u001b[0m\u001b[1;33m(\u001b[0m\u001b[0marg\u001b[0m\u001b[1;33m)\u001b[0m\u001b[1;33m:\u001b[0m\u001b[1;33m\u001b[0m\u001b[1;33m\u001b[0m\u001b[0m\n",
      "\u001b[1;32m~\\Anaconda3\\envs\\advpy\\lib\\site-packages\\line_profiler\\line_profiler.py\u001b[0m in \u001b[0;36mlprun\u001b[1;34m(self, parameter_s)\u001b[0m\n\u001b[0;32m    361\u001b[0m         \u001b[1;32mtry\u001b[0m\u001b[1;33m:\u001b[0m\u001b[1;33m\u001b[0m\u001b[1;33m\u001b[0m\u001b[0m\n\u001b[0;32m    362\u001b[0m             \u001b[1;32mtry\u001b[0m\u001b[1;33m:\u001b[0m\u001b[1;33m\u001b[0m\u001b[1;33m\u001b[0m\u001b[0m\n\u001b[1;32m--> 363\u001b[1;33m                 \u001b[0mprofile\u001b[0m\u001b[1;33m.\u001b[0m\u001b[0mrunctx\u001b[0m\u001b[1;33m(\u001b[0m\u001b[0marg_str\u001b[0m\u001b[1;33m,\u001b[0m \u001b[0mglobal_ns\u001b[0m\u001b[1;33m,\u001b[0m \u001b[0mlocal_ns\u001b[0m\u001b[1;33m)\u001b[0m\u001b[1;33m\u001b[0m\u001b[1;33m\u001b[0m\u001b[0m\n\u001b[0m\u001b[0;32m    364\u001b[0m                 \u001b[0mmessage\u001b[0m \u001b[1;33m=\u001b[0m \u001b[1;34m''\u001b[0m\u001b[1;33m\u001b[0m\u001b[1;33m\u001b[0m\u001b[0m\n\u001b[0;32m    365\u001b[0m             \u001b[1;32mexcept\u001b[0m \u001b[0mSystemExit\u001b[0m\u001b[1;33m:\u001b[0m\u001b[1;33m\u001b[0m\u001b[1;33m\u001b[0m\u001b[0m\n",
      "\u001b[1;32m~\\Anaconda3\\envs\\advpy\\lib\\site-packages\\line_profiler\\line_profiler.py\u001b[0m in \u001b[0;36mrunctx\u001b[1;34m(self, cmd, globals, locals)\u001b[0m\n\u001b[0;32m    156\u001b[0m         \u001b[0mself\u001b[0m\u001b[1;33m.\u001b[0m\u001b[0menable_by_count\u001b[0m\u001b[1;33m(\u001b[0m\u001b[1;33m)\u001b[0m\u001b[1;33m\u001b[0m\u001b[1;33m\u001b[0m\u001b[0m\n\u001b[0;32m    157\u001b[0m         \u001b[1;32mtry\u001b[0m\u001b[1;33m:\u001b[0m\u001b[1;33m\u001b[0m\u001b[1;33m\u001b[0m\u001b[0m\n\u001b[1;32m--> 158\u001b[1;33m             \u001b[0mexec_\u001b[0m\u001b[1;33m(\u001b[0m\u001b[0mcmd\u001b[0m\u001b[1;33m,\u001b[0m \u001b[0mglobals\u001b[0m\u001b[1;33m,\u001b[0m \u001b[0mlocals\u001b[0m\u001b[1;33m)\u001b[0m\u001b[1;33m\u001b[0m\u001b[1;33m\u001b[0m\u001b[0m\n\u001b[0m\u001b[0;32m    159\u001b[0m         \u001b[1;32mfinally\u001b[0m\u001b[1;33m:\u001b[0m\u001b[1;33m\u001b[0m\u001b[1;33m\u001b[0m\u001b[0m\n\u001b[0;32m    160\u001b[0m             \u001b[0mself\u001b[0m\u001b[1;33m.\u001b[0m\u001b[0mdisable_by_count\u001b[0m\u001b[1;33m(\u001b[0m\u001b[1;33m)\u001b[0m\u001b[1;33m\u001b[0m\u001b[1;33m\u001b[0m\u001b[0m\n",
      "\u001b[1;32m<string>\u001b[0m in \u001b[0;36m<module>\u001b[1;34m\u001b[0m\n",
      "\u001b[1;32m_cython_magic_031bfb68ea5225051d65b5caa1e9d637.pyx\u001b[0m in \u001b[0;36m_cython_magic_031bfb68ea5225051d65b5caa1e9d637.covid_sim\u001b[1;34m()\u001b[0m\n",
      "\u001b[1;31mAttributeError\u001b[0m: 'dict' object has no attribute 'loading'"
     ]
    }
   ],
   "source": [
    "%lprun -f covid_sim covid_sim(args1)"
   ]
  },
  {
   "cell_type": "code",
   "execution_count": 126,
   "metadata": {
    "jupyter": {
     "source_hidden": true
    }
   },
   "outputs": [],
   "source": [
    "%lprun -f multiprocess multiprocess(args2)"
   ]
  },
  {
   "cell_type": "markdown",
   "metadata": {},
   "source": [
    "# Modeling and Experiments"
   ]
  },
  {
   "cell_type": "markdown",
   "metadata": {},
   "source": [
    "##### Simulation code with cython minus tqdm"
   ]
  },
  {
   "cell_type": "code",
   "execution_count": 112,
   "metadata": {
    "collapsed": true,
    "jupyter": {
     "outputs_hidden": true,
     "source_hidden": true
    }
   },
   "outputs": [
    {
     "name": "stdout",
     "output_type": "stream",
     "text": [
      "The Cython extension is already loaded. To reload it, use:\n",
      "  %reload_ext Cython\n"
     ]
    }
   ],
   "source": [
    "%load_ext Cython"
   ]
  },
  {
   "cell_type": "code",
   "execution_count": 140,
   "metadata": {
    "jupyter": {
     "source_hidden": true
    }
   },
   "outputs": [],
   "source": [
    "%%cython\n",
    "\n",
    "# cython: profile=True\n",
    "# cython: linetrace=True\n",
    "# cython: binding=True\n",
    "# distutils: define_macros=CYTHON_TRACE_NOGIL=1\n",
    "\n",
    "import numpy as np\n",
    "from tqdm import tqdm\n",
    "import argparse\n",
    "from multiprocessing import cpu_count\n",
    "from functools import partial\n",
    "from multiprocessing.pool import Pool\n",
    "import pandas as pd\n",
    "import feather\n",
    "\n",
    "# Matplotlib doesn't play nicely with multiprocessing, so\n",
    "# we have to create a separate graphing function & import matplotlib inside of that.\n",
    "def graphing_function(args, days, norms):\n",
    "    import matplotlib.pyplot as plt\n",
    "    susceptible_pop_norm, infected_pop_norm, recovered_pop_norm = norms\n",
    "    public_trans_vec = args.public_trans_vec\n",
    "    if isinstance(public_trans_vec[0], str):\n",
    "        public_trans_vec = np.asarray([float(i.replace('[', '').replace(',','').replace(']','')) for i in args.public_trans_vec if i not in ['[',']',',',' ']])\n",
    "    # plot results and save the plot\n",
    "    fig = plt.figure()\n",
    "    ax = plt.axes()\n",
    "    ax.spines['right'].set_visible(False)\n",
    "    ax.spines['top'].set_visible(False)\n",
    "    ax.spines['left'].set_visible(False)\n",
    "    ax.plot(np.arange(days), susceptible_pop_norm, label='Susceptible', color='#4aa5f0', linewidth=2)\n",
    "    ax.plot(np.arange(days), infected_pop_norm, label='Infected', color='#f03737', linewidth=2)\n",
    "    ax.plot(np.arange(days), recovered_pop_norm, label='Recovered', color='#82e88a', linewidth=2)\n",
    "    ax.plot(np.arange(days), public_trans_vec, '--', label='Transit', color='k', linewidth=2)\n",
    "    ax.legend(frameon=False, loc='center left', bbox_to_anchor=(1.01, 0.5))\n",
    "    ax.set_xlabel(\"Days\")\n",
    "    ax.set_ylabel(\"Share of Population\")\n",
    "    if 'fig_name' in args:\n",
    "        ax.figure.savefig('figures/' + args.fig_name + '.png')\n",
    "    else:\n",
    "        ax.figure.savefig('figures/sir_plot.png')\n",
    "    plt.show()\n",
    "    plt.close()\n",
    "    \n",
    "# Convenience function: access Python dict keys as dict.key instead of dict['key']\n",
    "class objdict(dict):\n",
    "    def __getattr__(self, name):\n",
    "        if name in self:\n",
    "            return self[name]\n",
    "        else:\n",
    "            raise AttributeError(\"No such attribute: \" + name)\n",
    "\n",
    "    def __setattr__(self, name, value):\n",
    "        self[name] = value\n",
    "\n",
    "    def __delattr__(self, name):\n",
    "        if name in self:\n",
    "            del self[name]\n",
    "        else:\n",
    "            raise AttributeError(\"No such attribute: \" + name)\n",
    "            \n",
    "# Run n simulations in parallel: for each run, parameters are randomly sampled from an interval\n",
    "# NOTE: Are these intervals reasonable?\n",
    "def multiprocess(args):\n",
    "\n",
    "    chunks = []\n",
    "    num_procs = args.randomize\n",
    "    for _ in range(num_procs):\n",
    "        d = dict()\n",
    "        d['origin_matrix_path'] = args.origin_matrix_path\n",
    "        d['thresh1'] = np.random.randint(0, 350)\n",
    "        d['thresh2'] = np.random.randint(d['thresh1'], 700)\n",
    "        d['infection_magnitude'] = np.random.randint(5, 15)\n",
    "        d['beta'] = args.beta\n",
    "        d['gamma'] = args.gamma\n",
    "        d['public_trans'] = np.random.randint(1, 7) * 0.1\n",
    "        d['public_trans_vec'] = np.asarray([float(i.replace('[', '').replace(',','').replace(']','')) for i in args.public_trans_vec if i not in ['[',']',',',' ']])\n",
    "        d['days'] = args.days\n",
    "        d['fig_name'] = 'public_trans_{:0.1f}_({}, {})_inf_{}'.format(d['public_trans'], d['thresh1'], d['thresh2'], d['infection_magnitude'])\n",
    "        d['loading'] = args.loading\n",
    "        d = objdict(d)\n",
    "        chunks.append(d)\n",
    "\n",
    "    with Pool(num_procs) as p:\n",
    "        p.map(covid_sim, chunks)\n",
    "\n",
    "    p.join()\n",
    "\n",
    "def covid_sim(args):\n",
    "    # Read in origin-destination flow matrix\n",
    "    if int(args.loading) == 0:\n",
    "        OD = np.genfromtxt(args.origin_matrix_path, delimiter=',')\n",
    "        \n",
    "    elif int(args.loading) == 1:\n",
    "        OD = pd.read_csv('data/nyc_od.csv', header=None, dtype=np.float64).to_numpy()\n",
    "        \n",
    "    elif int(args.loading) == 2:\n",
    "        OD = feather.read_dataframe('data/nyc_od.feather').to_numpy()\n",
    "    \n",
    "\n",
    "    # initialize the population vector from the origin-destination flow matrix\n",
    "    N_k = np.abs(np.diagonal(OD) + OD.sum(axis=0) - OD.sum(axis=1))\n",
    "    locs_len = len(N_k)                 # number of locations\n",
    "    SIR = np.zeros(shape=(locs_len, 3)) # make a numpy array with 3 columns for keeping track of the S, I, R groups\n",
    "    SIR[:,0] = N_k                      # initialize the S group with the respective populations\n",
    "    thresh1 = args.thresh1\n",
    "    thresh2 = args.thresh2\n",
    "\n",
    "    first_infections = np.where((thresh1 <= SIR[:, 0]) & (SIR[:, 0] <= thresh2), np.random.randint(1, args.infection_magnitude), 0)   # for demo purposes, randomly introduce infections\n",
    "    # NOTE: this is arbitrary but not actually random.... \n",
    "    SIR[:, 0] = SIR[:, 0] - first_infections\n",
    "    SIR[:, 1] = SIR[:, 1] + first_infections                           # move infections to the I group\n",
    "\n",
    "    # row normalize the SIR matrix for keeping track of group proportions\n",
    "    row_sums = SIR.sum(axis=1)\n",
    "    SIR_n = SIR / row_sums[:, np.newaxis]\n",
    "\n",
    "    # initialize parameters\n",
    "    beta = args.beta\n",
    "    gamma = args.gamma\n",
    "    public_trans = args.public_trans                                 # alpha\n",
    "    R0 = beta/gamma\n",
    "    beta_vec = np.random.gamma(beta, 2, locs_len)\n",
    "    gamma_vec = np.full(locs_len, gamma)\n",
    "    public_trans_vec = args.public_trans_vec\n",
    "    if isinstance(public_trans_vec[0], str):\n",
    "        public_trans_vec = np.asarray([float(i.replace('[', '').replace(',','').replace(']','')) for i in args.public_trans_vec if i not in ['[',']',',',' ']])\n",
    "#     print(type(public_trans_vec[0]))\n",
    "#     print(public_trans_vec)\n",
    "\n",
    "    # make copy of the SIR matrices \n",
    "    SIR_sim = SIR.copy()\n",
    "    SIR_nsim = SIR_n.copy()\n",
    "\n",
    "    # run model\n",
    "    #print(SIR_sim.sum(axis=0).sum() == N_k.sum())\n",
    "    infected_pop_norm = []\n",
    "    susceptible_pop_norm = []\n",
    "    recovered_pop_norm = []\n",
    "    days = args.days\n",
    "    for time_step in range(days):\n",
    "        infected_mat = np.array([SIR_nsim[:,1],]*locs_len).transpose()\n",
    "        OD_infected = np.round(OD*infected_mat)\n",
    "        inflow_infected = OD_infected.sum(axis=0)\n",
    "        inflow_infected = np.round(inflow_infected*public_trans_vec[time_step])\n",
    "        #print('total infected inflow: ', inflow_infected.sum())\n",
    "        new_infect = beta_vec*SIR_sim[:, 0]*inflow_infected/(N_k + OD.sum(axis=0))\n",
    "        new_recovered = gamma_vec*SIR_sim[:, 1]\n",
    "        new_infect = np.where(new_infect>SIR_sim[:, 0], SIR_sim[:, 0], new_infect)\n",
    "        SIR_sim[:, 0] = SIR_sim[:, 0] - new_infect\n",
    "        SIR_sim[:, 1] = SIR_sim[:, 1] + new_infect - new_recovered\n",
    "        SIR_sim[:, 2] = SIR_sim[:, 2] + new_recovered\n",
    "        SIR_sim = np.where(SIR_sim<0,0,SIR_sim)\n",
    "        # recompute the normalized SIR matrix\n",
    "        row_sums = SIR_sim.sum(axis=1)\n",
    "        SIR_nsim = SIR_sim / row_sums[:, np.newaxis]\n",
    "        S = SIR_sim[:,0].sum()/N_k.sum()\n",
    "        I = SIR_sim[:,1].sum()/N_k.sum()\n",
    "        R = SIR_sim[:,2].sum()/N_k.sum()\n",
    "        #print(S, I, R, (S+I+R)*N_k.sum(), N_k.sum())\n",
    "        #print('\\n')\n",
    "        infected_pop_norm.append(I)\n",
    "        susceptible_pop_norm.append(S)\n",
    "        recovered_pop_norm.append(R)\n",
    "\n",
    "    graphing_function(args, days, (susceptible_pop_norm, infected_pop_norm, recovered_pop_norm))\n",
    "\n",
    "def covid_sim_serial(args):\n",
    "    for i in range(args.randomize):\n",
    "        covid_sim(args)"
   ]
  },
  {
   "cell_type": "code",
   "execution_count": 10,
   "metadata": {
    "jupyter": {
     "source_hidden": true
    }
   },
   "outputs": [
    {
     "data": {
      "text/plain": [
       "_StoreAction(option_strings=['--fig-name'], dest='fig_name', nargs=None, const=None, default='figure_1', type=None, choices=None, help=None, metavar=None)"
      ]
     },
     "execution_count": 10,
     "metadata": {},
     "output_type": "execute_result"
    }
   ],
   "source": [
    "parser = argparse.ArgumentParser(description='COVID Simulator')\n",
    "parser.add_argument('--randomize', type=int, default=0)\n",
    "parser.add_argument('--origin-matrix-path', default='data/nyc_od.csv')\n",
    "parser.add_argument('--thresh1', type=int, default=0)\n",
    "parser.add_argument('--thresh2', type=int, default=100)\n",
    "parser.add_argument('--infection-magnitude', type=int, default=10)\n",
    "parser.add_argument('--beta', type=float, default=0.75)\n",
    "parser.add_argument('--gamma', type=float, default=0.2)\n",
    "parser.add_argument('--public-trans', type=float, default=0.56)\n",
    "parser.add_argument('--public-trans-vec', nargs='+', default=[])\n",
    "parser.add_argument('--days', type=int, default=100)\n",
    "parser.add_argument('--img-folder', default='figures/')\n",
    "parser.add_argument('--loading', default = 0)\n",
    "parser.add_argument('--fig-name', default = 'figure_1')"
   ]
  },
  {
   "cell_type": "code",
   "execution_count": 34,
   "metadata": {
    "jupyter": {
     "source_hidden": true
    }
   },
   "outputs": [
    {
     "name": "stderr",
     "output_type": "stream",
     "text": [
      "100%|████████████████████████████████████████████████████████████████████████████████| 100/100 [00:05<00:00, 17.40it/s]\n"
     ]
    }
   ],
   "source": [
    "ptv = generate_ptv(public_trans=0.56, days=100, scenario='1')\n",
    "args1 = parser.parse_args(f'--randomize 4 --loading 2 --public-trans-vec {ptv}'.split())\n",
    "covid_serial_sim(args1)"
   ]
  },
  {
   "cell_type": "markdown",
   "metadata": {},
   "source": [
    "### Estimating public_trans_vec"
   ]
  },
  {
   "cell_type": "markdown",
   "metadata": {},
   "source": [
    "56% of the population of NYC uses the public transportation system. Thus, we initially set public_trans \n",
    "to 0.56. The earliest reported symptoms of a confirmed case occurred on Feb 22nd, and we estimate that the \n",
    "individual was infected 5 days prior (Feb 17th). This will mark the first day of our simulation, although \n",
    "there were likely infections prior to this date, since the infected individual did not travel anywhere \n",
    "prior to contracting the virus. NYC limited transportation of non-essential workers on March 22nd, 34 days \n",
    "later. This is reflected by lowering the public_trans value on the 34th day of the simulation. \n",
    "Reports from the MTA have stated that from February, subway ridership fell by 60% as of \n",
    "March 17th, and 92% by April 8th, and 93% by April 17th. We can use these values to estimate public_trans \n",
    "over time. <br><br>\n",
    "\n",
    "\n",
    "#### Timeline\n",
    "Day &emsp; Ridership <br>\n",
    "1 &emsp;&emsp;&nbsp;  100% <br>\n",
    "19 &emsp;&emsp;100% (March 7th -- state of emergency declared -- this is when ridership likely started falling) <br>\n",
    "29 &emsp;&emsp; 40% (March 17th) <br>\n",
    "51 &emsp;&emsp; 8%  (Aprile 8th) <br>\n",
    "60 &emsp;&emsp; 7%  (April 17th) <br>\n",
    "88 &emsp;&emsp; 28%  (May 15th -- possible lifting of stay-at-home restrictions) <br>\n",
    "<br>\n",
    "Sources: <br>\n",
    "https://en.wikipedia.org/wiki/2020_coronavirus_pandemic_in_New_York_(state)#Timeline <br>\n",
    "https://nytransit.org/resources/public-transit-facts <br>\n",
    "https://comptroller.nyc.gov/reports/new-york-citys-frontline-workers/<br>\n",
    "http://web.mta.info/nyct/facts/ridership/ <br>\n",
    "https://www.businessinsider.com/coronavirus-nyc-subway-ridership-craters-amid-coronavirus-mta-seeks-bailout-2020-3 <br>\n",
    "https://www.businessinsider.com/new-york-subway-rides-plunge-mta-requests-second-bailout-93-2020-4 <br>\n",
    "https://brooklyneagle.com/articles/2020/04/08/new-york-city-subway-ridership-down-92-percent-due-to-coronavirus/"
   ]
  },
  {
   "cell_type": "markdown",
   "metadata": {},
   "source": [
    "#### MTA ridership over time"
   ]
  },
  {
   "cell_type": "code",
   "execution_count": 70,
   "metadata": {},
   "outputs": [
    {
     "data": {
      "image/png": "[encoded data removed]",
      "text/plain": [
       "<Figure size 432x288 with 1 Axes>"
      ]
     },
     "metadata": {
      "needs_background": "light"
     },
     "output_type": "display_data"
    }
   ],
   "source": [
    "# approximate ridership percentages over time \n",
    "import matplotlib.pyplot as plt\n",
    "from scipy.interpolate import interp1d\n",
    "%matplotlib inline\n",
    "\n",
    "earlier_start = 0    # in days before Feb 22 (day of Patient-0's first reported symptoms)\n",
    "earlier_shutdown = 0 # in days before travel restrictions take effect\n",
    "x = [19+earlier_start-earlier_shutdown, 29+earlier_start-earlier_shutdown, 51+earlier_start-earlier_shutdown, 60+earlier_start-earlier_shutdown]\n",
    "y = [1, .4, .08, .07]\n",
    "f = interp1d(x, y)\n",
    "plt.plot(x, y, 'o')\n",
    "plt.xlabel('Day')\n",
    "plt.ylabel('Ridership')\n",
    "new_y = np.append([1], f(x))\n",
    "x = np.append([1], x)\n",
    "plt.plot(x, new_y, 'g', '-')\n",
    "plt.yticks(np.arange(0,1.1, step=0.1), ['0','10%','20%','30%','40%','50%','60%','70%','80%','90%','100%'])\n",
    "plt.hlines([1, .4, .07], 0, 60+earlier_start, linestyles='--')\n",
    "plt.title('MTA Ridership During COVID-19')\n",
    "plt.show()"
   ]
  },
  {
   "cell_type": "code",
   "execution_count": 6,
   "metadata": {},
   "outputs": [],
   "source": [
    "# function to generate public_trans_vec\n",
    "def generate_ptv(public_trans=0.56, earlier_start=0, earlier_shutdown=0, days=100, low_val=0.07, earlier_decline=0, reopen_day=88, reopen_val=0.07, scenario=None, plot=False):\n",
    "    '''\n",
    "    earlier_start : shifting the start of infections (days before Feb 22--day of Patient-0's first reported symptoms)\n",
    "    earlier_shutdown : shifting the decrease in transit (days before March 7th--state of emergency declared)\n",
    "    public_trans : baseline % of population using public transit during normal times\n",
    "    days : days to run simulation for\n",
    "    '''  \n",
    "    # scenario 1: constant transit\n",
    "    if scenario == '1':\n",
    "        return np.full(days, public_trans)\n",
    "    \n",
    "    # scenario 2: transit decreases and stays low\n",
    "    if scenario == '2':\n",
    "        x = [19+earlier_start-earlier_shutdown, 29+earlier_start-earlier_shutdown, 51-earlier_decline+earlier_start-earlier_shutdown]\n",
    "        y = [1, .4, low_val]\n",
    "        f = interp1d(x, y)\n",
    "        # append values for days before and after periods of decreasing ridership\n",
    "        ridership = np.append(np.ones(18+earlier_start-earlier_shutdown), f(np.arange(19+earlier_start-earlier_shutdown,52-earlier_decline+earlier_start-earlier_shutdown)))\n",
    "        ridership = np.append(ridership, np.full(days-len(ridership), low_val))\n",
    "        # multiply ridership by public_trans to get public_trans_vec, append to reopen_vals\n",
    "        public_trans_vec = ridership * public_trans\n",
    "        return public_trans_vec\n",
    "          \n",
    "    # scenario 3: transit decreases and then increases when retrictions are lifted\n",
    "    if scenario == '3':\n",
    "        x = [19+earlier_start-earlier_shutdown, 29+earlier_start-earlier_shutdown, 51+earlier_start-earlier_shutdown, 60+earlier_start-earlier_shutdown]\n",
    "        y = [1, .4, .08, low_val]\n",
    "        f = interp1d(x, y)\n",
    "        # append values for days before and after periods of decreasing ridership\n",
    "        ridership = np.append(np.ones(18+earlier_start-earlier_shutdown), f(np.arange(19+earlier_start-earlier_shutdown,61+earlier_start-earlier_shutdown)))\n",
    "        ridership = np.append(ridership, np.full(days-len(ridership), reopen_val))\n",
    "        # multiply ridership by public_trans to get public_trans_vec, append to reopen_vals\n",
    "        public_trans_vec = ridership * public_trans\n",
    "        return public_trans_vec\n",
    "    \n",
    "#     if plot:\n",
    "#         plt.plot(np.arange(0,days), public_trans_vec)\n",
    "#         plt.xlabel('Day')\n",
    "#         plt.ylabel('Ridership')\n",
    "#         plt.title('Percent of New Yorkers using MTA')\n",
    "#         plt.show()"
   ]
  },
  {
   "cell_type": "markdown",
   "metadata": {},
   "source": [
    "### Scenario 1: travel stays constant"
   ]
  },
  {
   "cell_type": "code",
   "execution_count": 132,
   "metadata": {},
   "outputs": [
    {
     "name": "stdout",
     "output_type": "stream",
     "text": [
      "transit = 0.56\n"
     ]
    },
    {
     "data": {
      "image/png": "[encoded data removed]",
      "text/plain": [
       "<Figure size 432x288 with 1 Axes>"
      ]
     },
     "metadata": {
      "needs_background": "light"
     },
     "output_type": "display_data"
    }
   ],
   "source": [
    "# constant transit at 0.56\n",
    "print('medium transit level (0.56)')\n",
    "ptv = generate_ptv(public_trans=0.56, days=100, scenario='1')\n",
    "args1 = parser.parse_args(f'--randomize 4 --loading 2 --public-trans-vec {ptv}'.split())\n",
    "covid_sim(args1)"
   ]
  },
  {
   "cell_type": "code",
   "execution_count": 133,
   "metadata": {},
   "outputs": [
    {
     "name": "stdout",
     "output_type": "stream",
     "text": [
      "transit = 0.80\n"
     ]
    },
    {
     "data": {
      "image/png": "[encoded data removed]",
      "text/plain": [
       "<Figure size 432x288 with 1 Axes>"
      ]
     },
     "metadata": {
      "needs_background": "light"
     },
     "output_type": "display_data"
    }
   ],
   "source": [
    "# high constant transit at 0.8\n",
    "print('high transit level (0.80)')\n",
    "ptv = generate_ptv(public_trans=0.8, scenario='1')\n",
    "args1 = parser.parse_args(f'--randomize 4 --loading 2 --public-trans-vec {ptv}'.split())\n",
    "covid_sim(args1)"
   ]
  },
  {
   "cell_type": "code",
   "execution_count": 134,
   "metadata": {},
   "outputs": [
    {
     "name": "stdout",
     "output_type": "stream",
     "text": [
      "transit = 0.25\n"
     ]
    },
    {
     "data": {
      "image/png": "[encoded data removed]",
      "text/plain": [
       "<Figure size 432x288 with 1 Axes>"
      ]
     },
     "metadata": {
      "needs_background": "light"
     },
     "output_type": "display_data"
    }
   ],
   "source": [
    "# low constant transit at 0.25\n",
    "print('low transit level (0.25)')\n",
    "ptv = generate_ptv(public_trans=0.25, days=100, scenario='1')\n",
    "args1 = parser.parse_args(f'--randomize 4 --loading 2 --public-trans-vec {ptv}'.split())\n",
    "covid_sim(args1)"
   ]
  },
  {
   "cell_type": "markdown",
   "metadata": {},
   "source": [
    "### Scenario 2: travel decreases and stays low"
   ]
  },
  {
   "cell_type": "code",
   "execution_count": 166,
   "metadata": {},
   "outputs": [
    {
     "name": "stdout",
     "output_type": "stream",
     "text": [
      "transit decreases to 0.07\n"
     ]
    },
    {
     "data": {
      "image/png": "[encoded data removed]",
      "text/plain": [
       "<Figure size 432x288 with 1 Axes>"
      ]
     },
     "metadata": {
      "needs_background": "light"
     },
     "output_type": "display_data"
    }
   ],
   "source": [
    "print('transit decreases to 0.07')\n",
    "ptv = generate_ptv(public_trans=0.56, low_val=0.07, scenario='2')\n",
    "args2 = parser.parse_args(f'--randomize 4 --loading 2 --public-trans-vec {ptv}'.split())\n",
    "covid_sim(args2)"
   ]
  },
  {
   "cell_type": "code",
   "execution_count": 167,
   "metadata": {},
   "outputs": [
    {
     "name": "stdout",
     "output_type": "stream",
     "text": [
      "transit decreases to 0.14\n"
     ]
    },
    {
     "data": {
      "image/png": "[encoded data removed]",
      "text/plain": [
       "<Figure size 432x288 with 1 Axes>"
      ]
     },
     "metadata": {
      "needs_background": "light"
     },
     "output_type": "display_data"
    }
   ],
   "source": [
    "print('transit decreases to 0.14')\n",
    "ptv = generate_ptv(public_trans=0.56, low_val=0.14, scenario='2')\n",
    "args2 = parser.parse_args(f'--randomize 4 --loading 2 --public-trans-vec {ptv}'.split())\n",
    "covid_sim(args2)"
   ]
  },
  {
   "cell_type": "code",
   "execution_count": 163,
   "metadata": {},
   "outputs": [
    {
     "name": "stdout",
     "output_type": "stream",
     "text": [
      "transit decreases to 0\n"
     ]
    },
    {
     "data": {
      "image/png": "[encoded data removed]",
      "text/plain": [
       "<Figure size 432x288 with 1 Axes>"
      ]
     },
     "metadata": {
      "needs_background": "light"
     },
     "output_type": "display_data"
    }
   ],
   "source": [
    "print('transit decreases to 0')\n",
    "ptv = generate_ptv(public_trans=0.56, low_val=0.001, scenario='2')\n",
    "args2 = parser.parse_args(f'--randomize 4 --loading 2 --public-trans-vec {ptv}'.split())\n",
    "covid_sim(args2)"
   ]
  },
  {
   "cell_type": "code",
   "execution_count": 165,
   "metadata": {},
   "outputs": [
    {
     "name": "stdout",
     "output_type": "stream",
     "text": [
      "transit decreases more rapidly to 0\n"
     ]
    },
    {
     "data": {
      "image/png": "[encoded data removed]",
      "text/plain": [
       "<Figure size 432x288 with 1 Axes>"
      ]
     },
     "metadata": {
      "needs_background": "light"
     },
     "output_type": "display_data"
    }
   ],
   "source": [
    "print('transit decreases more rapidly to 0')\n",
    "ptv = generate_ptv(public_trans=0.56, low_val=0.001, earlier_decline=15, scenario='2')\n",
    "args2 = parser.parse_args(f'--randomize 4 --loading 2 --public-trans-vec {ptv}'.split())\n",
    "covid_sim(args2)"
   ]
  },
  {
   "cell_type": "markdown",
   "metadata": {},
   "source": [
    "#### Scenario 3: NYC reopens on May 15th and transit increases "
   ]
  },
  {
   "cell_type": "code",
   "execution_count": 170,
   "metadata": {},
   "outputs": [
    {
     "name": "stdout",
     "output_type": "stream",
     "text": [
      "NYC reopens, transit goes to 0.28\n"
     ]
    },
    {
     "data": {
      "image/png": "[encoded data removed]",
      "text/plain": [
       "<Figure size 432x288 with 1 Axes>"
      ]
     },
     "metadata": {
      "needs_background": "light"
     },
     "output_type": "display_data"
    }
   ],
   "source": [
    "print('NYC reopens, transit goes to 0.28')\n",
    "ptv = generate_ptv(public_trans=0.56, reopen_val=0.28, scenario='3')\n",
    "args3 = parser.parse_args(f'--randomize 4 --loading 2 --public-trans-vec {ptv}'.split())\n",
    "covid_sim(args3)"
   ]
  },
  {
   "cell_type": "code",
   "execution_count": 171,
   "metadata": {},
   "outputs": [
    {
     "name": "stdout",
     "output_type": "stream",
     "text": [
      "NYC reopens, transit goes to 0.56\n"
     ]
    },
    {
     "data": {
      "image/png": "[encoded data removed]",
      "text/plain": [
       "<Figure size 432x288 with 1 Axes>"
      ]
     },
     "metadata": {
      "needs_background": "light"
     },
     "output_type": "display_data"
    }
   ],
   "source": [
    "print('NYC reopens, transit goes to 0.56')\n",
    "ptv = generate_ptv(public_trans=0.56, reopen_val=0.56, scenario='3')\n",
    "args3 = parser.parse_args(f'--randomize 4 --loading 2 --public-trans-vec {ptv}'.split())\n",
    "covid_sim(args3)"
   ]
  }
 ],
 "metadata": {
  "kernelspec": {
   "display_name": "Python 3",
   "language": "python",
   "name": "python3"
  },
  "language_info": {
   "codemirror_mode": {
    "name": "ipython",
    "version": 3
   },
   "file_extension": ".py",
   "mimetype": "text/x-python",
   "name": "python",
   "nbconvert_exporter": "python",
   "pygments_lexer": "ipython3",
   "version": "3.6.10"
  }
 },
 "nbformat": 4,
 "nbformat_minor": 4
}
